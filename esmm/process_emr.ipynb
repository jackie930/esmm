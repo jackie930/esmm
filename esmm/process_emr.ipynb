{
 "cells": [
  {
   "cell_type": "code",
   "execution_count": 1,
   "metadata": {},
   "outputs": [
    {
     "data": {
      "application/vnd.jupyter.widget-view+json": {
       "model_id": "4b28b442705f42e2bc07a6ab7bc92103",
       "version_major": 2,
       "version_minor": 0
      },
      "text/plain": [
       "VBox()"
      ]
     },
     "metadata": {},
     "output_type": "display_data"
    },
    {
     "name": "stdout",
     "output_type": "stream",
     "text": [
      "Starting Spark application\n"
     ]
    },
    {
     "data": {
      "text/html": [
       "<table>\n",
       "<tr><th>ID</th><th>YARN Application ID</th><th>Kind</th><th>State</th><th>Spark UI</th><th>Driver log</th><th>Current session?</th></tr><tr><td>3</td><td>application_1612666188924_0004</td><td>pyspark</td><td>idle</td><td><a target=\"_blank\" href=\"http://ip-172-31-38-176.us-east-2.compute.internal:20888/proxy/application_1612666188924_0004/\">Link</a></td><td><a target=\"_blank\" href=\"http://ip-172-31-44-1.us-east-2.compute.internal:8042/node/containerlogs/container_1612666188924_0004_01_000001/livy\">Link</a></td><td>✔</td></tr></table>"
      ],
      "text/plain": [
       "<IPython.core.display.HTML object>"
      ]
     },
     "metadata": {},
     "output_type": "display_data"
    },
    {
     "data": {
      "application/vnd.jupyter.widget-view+json": {
       "model_id": "",
       "version_major": 2,
       "version_minor": 0
      },
      "text/plain": [
       "FloatProgress(value=0.0, bar_style='info', description='Progress:', layout=Layout(height='25px', width='50%'),…"
      ]
     },
     "metadata": {},
     "output_type": "display_data"
    },
    {
     "name": "stdout",
     "output_type": "stream",
     "text": [
      "SparkSession available as 'spark'.\n"
     ]
    },
    {
     "data": {
      "application/vnd.jupyter.widget-view+json": {
       "model_id": "",
       "version_major": 2,
       "version_minor": 0
      },
      "text/plain": [
       "FloatProgress(value=0.0, bar_style='info', description='Progress:', layout=Layout(height='25px', width='50%'),…"
      ]
     },
     "metadata": {},
     "output_type": "display_data"
    }
   ],
   "source": [
    "import time\n",
    "from pyspark import SparkContext, SparkConf\n",
    "from pyspark.sql import SparkSession, Window\n",
    "from pyspark.ml.feature import OneHotEncoder, StringIndexer\n",
    "from pyspark.sql.types import StructType, StructField, StringType, IntegerType,FloatType,DoubleType,LongType\n",
    "from pyspark.sql.functions import to_timestamp, to_date, lit, sort_array, collect_list, col, udf\n",
    "import pyspark.sql.functions as f\n",
    "import json\n",
    "from pyspark.sql.functions import udf\n",
    "from pyspark.sql.functions import unix_timestamp, from_unixtime\n",
    "from pyspark.sql.types import DateType\n",
    "spark.conf.set(\"spark.sql.session.timeZone\", \"UTC+08:00\")"
   ]
  },
  {
   "cell_type": "code",
   "execution_count": 2,
   "metadata": {},
   "outputs": [
    {
     "data": {
      "application/vnd.jupyter.widget-view+json": {
       "model_id": "52a0b1fa33264e92875c1649e8813026",
       "version_major": 2,
       "version_minor": 0
      },
      "text/plain": [
       "VBox()"
      ]
     },
     "metadata": {},
     "output_type": "display_data"
    },
    {
     "data": {
      "application/vnd.jupyter.widget-view+json": {
       "model_id": "",
       "version_major": 2,
       "version_minor": 0
      },
      "text/plain": [
       "FloatProgress(value=0.0, bar_style='info', description='Progress:', layout=Layout(height='25px', width='50%'),…"
      ]
     },
     "metadata": {},
     "output_type": "display_data"
    }
   ],
   "source": [
    "#three days\n",
    "#enter the address for data\n",
    "#for feature\n",
    "date = '20201221'\n",
    "\n",
    "user_s3_address = 's3://douyu-datalab/three_days_full/tmp_recom_user_feature_1d_'+date+'.csv'\n",
    "item_s3_address = 's3://douyu-datalab/three_days_full/tmp_recom_item_feature_1d_'+date+'.csv'\n",
    "#for label\n",
    "weight_s3_address = 's3://douyu-datalab/three_days_full/tmp_recom_weight_data_1d_'+date+'.csv'\n",
    "action_s3_address = 's3://douyu-datalab/three_days_full/tmp_recom_action_code_1d_'+date+'.csv'\n",
    "black_user_s3_address = 's3://douyu-datalab/three_days_full/tmp_recom_black_user_1d_'+date+'.csv'\n"
   ]
  },
  {
   "cell_type": "markdown",
   "metadata": {},
   "source": [
    "# load data"
   ]
  },
  {
   "cell_type": "code",
   "execution_count": 3,
   "metadata": {},
   "outputs": [
    {
     "data": {
      "application/vnd.jupyter.widget-view+json": {
       "model_id": "422eeb97f13c426aad6248f967a614c0",
       "version_major": 2,
       "version_minor": 0
      },
      "text/plain": [
       "VBox()"
      ]
     },
     "metadata": {},
     "output_type": "display_data"
    },
    {
     "data": {
      "application/vnd.jupyter.widget-view+json": {
       "model_id": "",
       "version_major": 2,
       "version_minor": 0
      },
      "text/plain": [
       "FloatProgress(value=0.0, bar_style='info', description='Progress:', layout=Layout(height='25px', width='50%'),…"
      ]
     },
     "metadata": {},
     "output_type": "display_data"
    },
    {
     "name": "stdout",
     "output_type": "stream",
     "text": [
      "+--------------------+--------------------+------------+------------+----------------+--------------------+--------------------+---------------------+--------------+--------------+---------------+---------+---------+-------------+-------------+---------+---------+-------------+-------------+---------------------+------------+------------+-------------+-------------+-------------+--------------+-------------------------+---------------------------+-------------------------+-------------------------+-------------------------+--------------------------+-------------------------+------------------------+\n",
      "|             room_id|        room_feature|anchor_level|anchor_score|is_top200_anchor|room_click_num_1_day|room_click_num_7_day|room_click_num_15_day|room_ctr_1_day|room_ctr_7_day|room_ctr_15_day|i_hot_mon|i_hot_fri|i_hot_weekend|i_hot_weekday|i_ctr_mon|i_ctr_fri|i_ctr_weekend|i_ctr_weekday|room_period_favor_30d|guess_cnt_1d|guess_cnt_7d|guess_cnt_15d|raffle_cnt_1d|raffle_cnt_7d|raffle_cnt_15d|room_watch_newmbr_cnt_30d|room_effwatch_mbr_ratio_30d|room_follow_mbr_ratio_30d|room_click_repeat_uids_1d|room_click_repeat_uids_7d|room_click_repeat_uids_15d|click_repeat_avg_nums_15d|room_repeat_uid_rate_15d|\n",
      "+--------------------+--------------------+------------+------------+----------------+--------------------+--------------------+---------------------+--------------+--------------+---------------+---------+---------+-------------+-------------+---------+---------+-------------+-------------+---------------------+------------+------------+-------------+-------------+-------------+--------------+-------------------------+---------------------------+-------------------------+-------------------------+-------------------------+--------------------------+-------------------------+------------------------+\n",
      "|02e74f10e0327ad86...|{\"owner_exp\":0,\"o...|           1|        null|            null|                   0|                   0|                    0|             0|             0|              0|     null|     null|         null|         null|        0|        0|            0|            0|                 null|           0|           0|            0|            0|            0|             0|                       44|                      0.125|                        0|                        0|                        0|                         0|                        0|                       0|\n",
      "|182be0c5cdcd5072b...|{\"owner_exp\":2,\"o...|           1|        null|            null|                   0|                   0|                    0|             0|             0|              0|     null|     null|         null|         null|        0|        0|            0|            0|                 null|           0|           0|            0|            0|            0|             0|                     null|                       null|                     null|                        0|                        0|                         0|                        0|                       0|\n",
      "|a5771bce93e200c36...|{\"owner_exp\":0,\"o...|           1|        null|            null|                   0|                   0|                    0|             0|             0|              0|     null|     null|         null|         null|        0|        0|            0|            0|                 null|           0|           0|            0|            0|            0|             0|                     null|                       null|                     null|                        0|                        0|                         0|                        0|                       0|\n",
      "|17e62166fc8586dfa...|{\"owner_exp\":2681...|          24|        null|            null|                   0|                   0|                    0|             0|             0|              0|     null|     null|         null|         null|        0|        0|            0|            0|                 null|           0|           0|            0|            0|            0|             0|                     null|                       null|                     null|                        0|                        0|                         0|                        0|                       0|\n",
      "|f457c545a9ded88f1...|{\"owner_exp\":2890...|          65|       37333|               0|                 368|                2791|                 5899|        0.0473|        0.0433|         0.0434|   184325|   152562|       373846|       446620|    0.039|   0.0428|        0.043|       0.0463|                 null|           0|           0|            0|            0|            0|             0|                    17166|                     0.1881|                   0.0119|                       44|                      181|                       366|         8.87704918032787|     0.13560577991848832|\n",
      "|2838023a778dfaecd...|{\"owner_exp\":2341...|          23|        null|            null|                   0|                   0|                    0|             0|             0|              0|     null|     null|         null|         null|        0|        0|            0|            0|                 null|           0|           0|            0|            0|            0|             0|                     null|                       null|                     null|                        0|                        0|                         0|                        0|                       0|\n",
      "|66f041e16a60928b0...|{\"owner_exp\":0,\"o...|           1|          32|               0|                   0|                   0|                    0|             0|             0|              0|       18|        0|           41|           69|        0|        0|            0|            0|                 null|           0|           0|            0|            0|            0|             0|                        2|                        0.5|                        0|                        0|                        0|                         0|                        0|                       0|\n",
      "|44f683a84163b3523...|{\"owner_exp\":0,\"o...|           1|          31|               0|                   0|                   0|                    0|             0|             0|              0|       32|       39|           67|           80|        0|        0|            0|            0|                 null|           0|           0|            0|            0|            0|             0|                        6|                     0.5714|                        0|                        0|                        0|                         0|                        0|                       0|\n",
      "|3295c76acbf4caaed...|{\"owner_exp\":3530...|          67|       30649|               0|                 401|                3092|                 6425|        0.0517|        0.0477|         0.0515|   147068|   106365|       298399|       398309|   0.0483|   0.0526|       0.0532|       0.0515|                 null|           0|           0|            0|            0|            0|             0|                    24000|                     0.1183|                   0.0075|                       38|                      218|                       470|        5.187234042553191|      0.1163654369893538|\n",
      "|fbd7939d674997cdb...|{\"owner_exp\":0,\"o...|           1|        null|            null|                   0|                   0|                    0|             0|             0|              0|     null|     null|         null|         null|        0|        0|            0|            0|                 null|           0|           0|            0|            0|            0|             0|                     null|                       null|                     null|                        0|                        0|                         0|                        0|                       0|\n",
      "|f033ab37c30201f73...|{\"owner_exp\":0,\"o...|           1|        null|            null|                   0|                   0|                    0|             0|             0|              0|     null|     null|         null|         null|        0|        0|            0|            0|                 null|           0|           0|            0|            0|            0|             0|                     null|                       null|                     null|                        0|                        0|                         0|                        0|                       0|\n",
      "|812b4ba287f5ee0bc...|{\"owner_exp\":0,\"o...|           1|          32|               0|                   0|                   0|                    0|             0|             0|              0|       64|        0|           32|           64|        0|        0|            0|            0|                 下午|           0|           0|            0|            0|            0|             0|                       17|                     0.4762|                        0|                        0|                        0|                         0|                        0|                       0|\n",
      "|f899139df5e105939...|{\"owner_exp\":1914...|          60|      103167|               0|                 324|              196195|               825091|         0.037|        0.0794|         0.1355|   380081|   301230|       870155|       718208|   0.0954|   0.1386|       0.1832|       0.1008|                 null|           0|           0|            0|            0|            0|             2|                   117227|                     0.5339|                   0.0022|                       20|                    23496|                    133326|        5.433501342573842|      0.5698008863740294|\n",
      "|c9e1074f5b3f9fc8e...|{\"owner_exp\":0,\"o...|           1|        null|            null|                   0|                   0|                    0|             0|             0|              0|     null|     null|         null|         null|        0|        0|            0|            0|                 null|           0|           0|            0|            0|            0|             0|                     null|                       null|                     null|                        0|                        0|                         0|                        0|                       0|\n",
      "|5f93f983524def3dc...|{\"owner_exp\":1374...|          90|      265888|               1|               22819|              247947|               637291|         0.156|        0.1695|         0.1855|  1421472|   750055|      2605295|      2668050|   0.1723|   0.1734|       0.1888|       0.1945|                 上午|           0|           0|            2|            0|            0|             1|                    72109|                     0.6122|                   0.0046|                     4255|                    37392|                     74785|       6.8577121080430565|      0.5718994233975192|\n",
      "|73278a4a86960eeb5...|{\"owner_exp\":6620...|          17|        null|            null|                   0|                   0|                    0|             0|             0|              0|     null|     null|         null|         null|        0|        0|            0|            0|                 null|           0|           0|            0|            0|            0|             0|                     null|                       null|                     null|                        0|                        0|                         0|                        0|                       0|\n",
      "|07e1cd7dca89a1678...|{\"owner_exp\":9119...|          18|        null|            null|                   0|                   0|                    0|             0|             0|              0|     null|     null|         null|         null|        0|        0|            0|            0|                 null|           0|           0|            0|            0|            0|             0|                     null|                       null|                     null|                        0|                        0|                         0|                        0|                       0|\n",
      "|045117b0e0a11a242...|{\"owner_exp\":3877...|          26|          76|               0|                   0|                   0|                    0|             0|             0|              0|        0|        0|            0|           76|        0|        0|            0|            0|                 null|           0|           0|            0|            0|            0|             0|                       33|                     0.2703|                        0|                        0|                        0|                         0|                        0|                       0|\n",
      "|757b505cfd34c64c8...|{\"owner_exp\":0,\"o...|           1|        null|            null|                   0|                   0|                    0|             0|             0|              0|     null|     null|         null|         null|        0|        0|            0|            0|                 null|        null|        null|         null|         null|         null|          null|                     null|                       null|                     null|                     null|                     null|                      null|                     null|                    null|\n",
      "|e165421110ba03099...|{\"owner_exp\":0,\"o...|           1|        null|            null|                   0|                   0|                    0|             0|             0|              0|     null|     null|         null|         null|        0|        0|            0|            0|                 null|           0|           0|            0|            0|            0|             0|                     null|                       null|                     null|                        0|                        0|                         0|                        0|                       0|\n",
      "+--------------------+--------------------+------------+------------+----------------+--------------------+--------------------+---------------------+--------------+--------------+---------------+---------+---------+-------------+-------------+---------+---------+-------------+-------------+---------------------+------------+------------+-------------+-------------+-------------+--------------+-------------------------+---------------------------+-------------------------+-------------------------+-------------------------+--------------------------+-------------------------+------------------------+\n",
      "only showing top 20 rows"
     ]
    }
   ],
   "source": [
    "Timer1 = time.time()\n",
    "df_item = spark.read.format('csv').\\\n",
    "    options(header='true', inferSchema='false', encoding='utf8', sep='\\t').\\\n",
    "    load(item_s3_address)\n",
    "\n",
    "item_schema = StructType([\n",
    "    StructField('room_id', StringType(), True),\n",
    "    StructField('room_feature', StringType(), True),\n",
    "    StructField('anchor_level', StringType(), True),\n",
    "    StructField('anchor_score', StringType(), True),\n",
    "    StructField('is_top200_anchor', StringType(), True),\n",
    "    StructField('room_click_num_1_day', StringType(), True),\n",
    "    StructField('room_click_num_7_day', StringType(), True),\n",
    "    StructField('room_click_num_15_day', StringType(), True),\n",
    "    StructField('room_ctr_1_day', StringType(), True),\n",
    "    StructField('room_ctr_7_day', StringType(), True),\n",
    "    StructField('room_ctr_15_day', StringType(), True),\n",
    "    StructField('i_hot_mon', StringType(), True),\n",
    "    StructField('i_hot_fri', StringType(), True),\n",
    "    StructField('i_hot_weekend', StringType(), True),\n",
    "    StructField('i_hot_weekday', StringType(), True),\n",
    "    StructField('i_ctr_mon', StringType(), True),\n",
    "    StructField('i_ctr_fri', StringType(), True),\n",
    "    StructField('i_ctr_weekend', StringType(), True),\n",
    "    StructField('i_ctr_weekday', StringType(), True),\n",
    "    StructField('room_period_favor_30d', StringType(), True),\n",
    "    StructField('guess_cnt_1d', StringType(), True),\n",
    "    StructField('guess_cnt_7d', StringType(), True),\n",
    "    StructField('guess_cnt_15d', StringType(), True),\n",
    "    StructField('raffle_cnt_1d', StringType(), True),\n",
    "    StructField('raffle_cnt_7d', StringType(), True),\n",
    "    StructField('raffle_cnt_15d', StringType(), True),\n",
    "    StructField('room_watch_newmbr_cnt_30d', StringType(), True),\n",
    "    StructField('room_effwatch_mbr_ratio_30d', StringType(), True),\n",
    "    StructField('room_follow_mbr_ratio_30d', StringType(), True),\n",
    "    StructField('room_click_repeat_uids_1d', StringType(), True),\n",
    "    StructField('room_click_repeat_uids_7d', StringType(), True),\n",
    "    StructField('room_click_repeat_uids_15d', StringType(), True),\n",
    "    StructField('click_repeat_avg_nums_15d', StringType(), True),\n",
    "    StructField('room_repeat_uid_rate_15d', StringType(), True),\n",
    "]\n",
    ")\n",
    "\n",
    "\n",
    "\n",
    "df_item = spark.createDataFrame(data = df_item.rdd, schema = item_schema)\n",
    "\n",
    "df_item.show()\n",
    "\n",
    "#fillna\n",
    "df_item = df_item.fillna(0)\n"
   ]
  },
  {
   "cell_type": "code",
   "execution_count": 4,
   "metadata": {},
   "outputs": [
    {
     "data": {
      "application/vnd.jupyter.widget-view+json": {
       "model_id": "0bb58fd4415c40a0b580eb14ace0baf7",
       "version_major": 2,
       "version_minor": 0
      },
      "text/plain": [
       "VBox()"
      ]
     },
     "metadata": {},
     "output_type": "display_data"
    },
    {
     "data": {
      "application/vnd.jupyter.widget-view+json": {
       "model_id": "",
       "version_major": 2,
       "version_minor": 0
      },
      "text/plain": [
       "FloatProgress(value=0.0, bar_style='info', description='Progress:', layout=Layout(height='25px', width='50%'),…"
      ]
     },
     "metadata": {},
     "output_type": "display_data"
    },
    {
     "name": "stdout",
     "output_type": "stream",
     "text": [
      "+--------------------+--------+------------+------------+---+--------------+--------+--------+-------+-------------+------+-----+----+-------+-----------------+---------------------+----------+---------+---------+---------+---------+--------+---------+--------------------+-----------+--------------------+----------+--------------------+------------+--------------------+--------------------+--------------------+--------------------+---------------------+--------------------+------------+------------+----------------+----------------+--------------------+--------------------+--------------------+--------------------+--------------------+--------------------+--------------------+--------------------+-------------------+---------------------+------------------------+---------------------+---------------------+--------------------+---------------+----------------------+-----------------+-----------------+------------------+------------------+------------------+-------------------+------------------------+------------------------+-------------------------+-----------------------------+-----------------------------+------------------------------+------------------------------+------------------------------+-------------------------------+-------------------------+-------------------------+---------------------+---------------------+----------------------+--------------------------+--------------------------+--------------------+\n",
      "|                 uid|own_room|email_status|phone_status|sex|           src|    city|province|  brand|        model|active|level|days|msg_cnt|effect_watch_days|effect_watch_room_cnt|watch_time|yuwan_tag|yuwan_cnt|yuchi_cnt|follownum|rich_tag|loser_tag|                cate|cate_length|                 tag|tag_length|               child|child_length|user_tag_favor_1_day|     tag_ratio_1_day|user_tag_favor_7_day|     tag_ratio_7_day|user_tag_favor_15_day|    tag_ratio_15_day|u_active_mon|u_active_fri|u_active_weekday|u_active_weekend|         u_favor_mon|         u_favor_fri|     u_favor_weekday|     u_favor_weekend|     u_i_c_favor_mon|     u_i_c_favor_fri| u_i_c_favor_weekday| u_i_c_favor_weekend|follow_room_top10_m|unfollow_room_top10_m|follow_yuba_room_top10_m|favor_room_1d_top10_m|favor_room_7d_top10_m|     near_login_days|near_watch_days|watch_period_favor_30d|guess_join_cnt_1d|guess_join_cnt_7d|guess_join_cnt_15d|raffle_join_cnt_1d|raffle_join_cnt_7d|raffle_join_cnt_15d|effect_watch_room_cnt_1d|effect_watch_room_cnt_7d|effect_watch_room_cnt_15d|effect_watch_live_cate_cnt_1d|effect_watch_live_cate_cnt_7d|effect_watch_live_cate_cnt_15d|effect_watch_cate_rooms_cnt_1d|effect_watch_cate_rooms_cnt_7d|effect_watch_cate_rooms_cnt_15d|uid_attend_cate_aids_nums|uid_attend_cate_aids_rate|uid_watch_cate_cnt_1d|uid_watch_cate_cnt_7d|uid_watch_cate_cnt_15d|uid_watch_cate_maxtime_15d|uid_watch_cate_mintime_15d|          user_group|\n",
      "+--------------------+--------+------------+------------+---+--------------+--------+--------+-------+-------------+------+-----+----+-------+-----------------+---------------------+----------+---------+---------+---------+---------+--------+---------+--------------------+-----------+--------------------+----------+--------------------+------------+--------------------+--------------------+--------------------+--------------------+---------------------+--------------------+------------+------------+----------------+----------------+--------------------+--------------------+--------------------+--------------------+--------------------+--------------------+--------------------+--------------------+-------------------+---------------------+------------------------+---------------------+---------------------+--------------------+---------------+----------------------+-----------------+-----------------+------------------+------------------+------------------+-------------------+------------------------+------------------------+-------------------------+-----------------------------+-----------------------------+------------------------------+------------------------------+------------------------------+-------------------------------+-------------------------+-------------------------+---------------------+---------------------+----------------------+--------------------------+--------------------------+--------------------+\n",
      "|a4c21e4414931098e...|       0|           0|           1|  1|union_union_qq|    吉安|    江西|  HONOR|     HLK-AL00|     2|    6|   8|      4|                8|                    2|     37006|        0|        0|      0.0|       71|       0|        1|[\"9:1.2832\",\"1:0....|          2|[\"350:1.2832\",\"1:...|         2|[\"847:0.8816\",\"37...|           3|                null|                null|           1:1,350:2|                null|            1:1,350:2|                null|           4|           4|               4|               0|18:1.5437,36:0.50...|18:0.7566,36:0.72...|18:3.8539,19:1.67...|                   0|             1:0.207|            1:0.1974| 1:0.3073,350:0.2152|                   0|                  5| 10b81fd4cd4043c34...|                    null|                 null|                 null|12b9c4f26adf4a960...|              1|                     1|             午夜|                2|                 2|                 2|                 0|                  0|                       0|                       5|                       23|                           33|                            3|                            10|                            12|              1097:1,1:2,350:2|           1097:1,181:1,183:...|     1008:1,1097:1,181...|     1008:9,1221:2,181...| 1008:0.125,1221:0...|     1097:1,1:1,350:1|  1097:1,181:1,183:...|      1008:1,1097:1,181...|      1008:0.3155,1097:...|1008:0.3155,1097:...|\n",
      "|c7db60a3d185f6e41...|       0|           1|           1|  0|union_union_qq|    南通|    江苏|unknown|      unknown|     1|   14|   1|      0|                1|                    1|      4967|        0|        0|      0.0|        0|       0|        1|        [\"2:0.0936\"]|          1|      [\"174:0.0936\"]|         1|      [\"259:0.0936\"]|           1|               270:1|6:1.0,270:0.5,1:0...|           270:1,1:2|6:1.0,1:0.3636,27...|            270:1,1:2|6:0.3333,1:0.3077...|           1|           0|               0|               2|19:0.5881,86:0.28...|                   0|                   0|1:0.8626,54:0.340...|          270:1.3338|                   0|                   0|            1:0.2451|                  6| 17885c0d37e241abc...|                    null|                 null| fbcc1f577db973a6c...|38b3eff8baf566274...|              7|                    29|             晚上|             null|              null|              null|              null|               null|                    null|                    null|                     null|                         null|                         null|                          null|                          null|                          null|                           null|                     null|     1024:1,1055:1,110...| 1024:0.01,1055:0....|                 null|                  null|                      null|                      null|                null|\n",
      "|2cf3eafa09fe065ad...|       0|           1|           1|  0|      union_qq|    武汉|    湖北| iphone|      unknown|     4|    2|  18|      8|               18|                    2|     58037|        0|        0|      0.0|        7|       0|        1|[\"1:3.2979\",\"2:0....|          2|[\"255:1.4453\",\"5:...|         5|[\"405:1.4453\",\"13...|           7|                 5:1|                null|           5:1,255:2|                null|        5:1,255:2,1:3|                null|           4|           4|               8|               8|90:3.1474,28:1.25...|90:3.1474,23:0.62...|90:6.2948,28:1.69...|90:3.1474,28:1.70...|5:1.5454,255:0.18...|5:0.3042,255:0.19...|5:0.5942,1:0.3745...|255:0.6766,1:0.56...|                  5| 44dcf5758554b48f1...|                    null|                 null| 44dcf5758554b48f1...|44dcf5758554b48f1...|              1|                     2|             午夜|             null|              null|              null|              null|               null|                    null|                    null|                     null|                         null|                         null|                          null|                          null|                          null|                           null|                     null|       1:2,255:3,40:1,5:1| 1:0.2857,255:0.42...|                 null|                  null|                      null|                      null|                null|\n",
      "|ddae618dcc52d31d2...|       0|           0|           1|  0|          null|    null|    null|   null|         null|  null| null|null|   null|             null|                 null|      null|     null|     null|     null|     null|    null|     null|                null|       null|                null|      null|                null|        null|                null|                null|                null|                null|                181:1|                null|           0|           1|               4|               4|                   0|34:0.2979,37:0.29...|34:0.5958,37:0.59...|34:0.5958,37:0.59...|                   0|          181:0.0984|          181:0.1931|          181:0.1964|                  5| 19d4d07bc4c53710b...|                    null|                 null|                 null|                null|             10|                    10|             午夜|             null|              null|                 2|              null|               null|                       0|                    null|                     null|                            2|                         null|                          null|                             1|                          null|                           null|                    181:2|          181:3,1:1,33:16| 181:0.15,1:0.05,3...|                 null|                  null|                     181:5|                  181:0.25|          181:0.2891|\n",
      "|d018b51c6fa552fb3...|       0|           1|           1|  0|  union_weixin|    佛山|    广东|OnePlus|ONEPLUS A6000|     4|   23|  20|      2|               20|                    3|    101760|        0|        0|      0.0|       32|       0|        1|[\"15:3.4099\",\"1:0...|          3|[\"1024:1.0000\",\"9...|        13|[\"2141:0.3609\",\"3...|           5|1:1,1024:2,473:3,...|1024:0.5,1:0.5,13...|1:1,1024:2,473:3,...|1024:0.3333,1:0.2...| 1:1,1024:2,473:3,...|1024:0.3333,1:0.2...|           8|           4|               8|               8|32:0.9889,1:0.766...|19:0.6236,24:0.32...|36:1.4183,1:1.054...|1:0.538,19:0.5067...|1:4.3667,1024:1.5...|1:0.2781,977:0.18...|1:0.9664,1024:0.4...|1:0.4833,1282:0.4...|                  5| 17885c0d37e241abc...|                    null|                 null| 52a662c2eb0dae176...|17885c0d37e241abc...|              1|                     1|             午夜|             null|              null|                46|              null|               null|                       0|                    null|                     null|                            1|                         null|                          null|                             1|                          null|                           null|                    473:1|     1008:2,1024:2,127...| 1008:0.0588,1024:...|                 null|                  null|                     473:1|                  473:0.25|            473:0.25|\n",
      "|9929519d78d9151ba...|       0|           0|           1|  0|  union_weixin|乌兰察布|  内蒙古|   vivo|   vivo NEX A|     2|    2|  10|      6|               10|                    1|     76308|        0|        0|      0.0|       37|       0|        1|        [\"1:6.8805\"]|          1|[\"5:6.7593\",\"29:0...|         2|[\"138:3.0825\",\"13...|           6|                 5:1| 5:0.2,350:0.0,1:0.0|                 5:1|5:0.0435,1055:0.0...|                  5:1|5:0.0345,1:0.0,2:...|           2|           0|               0|               0|89:1.3867,18:1.20...|                   0|                   0|                   0|            5:1.4445|                   0|                   0|                   0|                  5| 00180ae33de5d1d6e...|                    null|                 null| 021bbc7ee20b71134...|021bbc7ee20b71134...|              1|                     2|             午夜|             null|                 0|                 0|              null|                  0|                       0|                    null|                        2|                            3|                         null|                             1|                             1|                          null|                            5:2|                      5:3|     1055:5,124:1,167:...| 1055:0.119,124:0....|                 null|                   5:1|                       5:2|                   5:0.301|            5:0.4307|\n",
      "|a6f1e4f0d8c02966d...|       1|           1|           1|  1|      union_qq|    null|    山东| iphone|      unknown|     1|   24|   6|      0|                6|                    3|      2150|        0|        0|      0.0|       40|       0|        1|[\"2:0.3960\",\"1:0....|          2|[\"208:0.3960\",\"33...|         3|[\"341:0.3960\",\"56...|           4|                null|                null|               183:1|                null|                183:1|                null|           2|           2|               4|               2|79:2.4031,80:0.18...|79:2.4031,80:0.18...|79:7.2093,80:0.56...|79:2.4031,80:0.18...|          183:0.1028|           183:0.099|          183:0.3039|          183:0.0999|                  5| 4d6da0c32dd563fea...|                    null|                 null|                 null|dcef99ed5527c9539...|              2|                     2|             傍晚|             null|                 7|                 7|              null|                  0|                       0|                    null|                        2|                            2|                         null|                             2|                             2|                          null|                      183:1,1:1|                183:1,1:1|     124:1,174:1,181:2...| 124:0.025,174:0.0...|                 null|             183:1,1:2|                 183:3,1:2|       183:0.2789,1:0.3333| 183:0.3869,1:0.6309|\n",
      "|00b03cc7c3e1fd7a9...|       0|           0|           1|  0|  union_weixin|    曲靖|    云南| HUAWEI|     TAS-AN00|     2|   24|  11|      3|               11|                    2|     14746|        0|        0|      0.0|      148|       0|        1|[\"1:1.9376\",\"2:0....|          2|[\"917:0.9150\",\"1:...|         6|[\"1610:0.9150\",\"1...|           7|                null|                null|           917:1,1:2|                null|            917:1,1:2|                null|           2|           2|               4|               2|1:0.5379,41:0.441...|1:1.2809,41:0.527...|1:1.5006,41:1.110...|1:0.5379,41:0.441...| 917:0.1017,1:0.0991| 917:0.1838,1:0.0864| 917:0.3128,1:0.2091| 1:0.0961,917:0.0925|                  5| 0151973b2b8382348...|                    null|                 null|                 null|b9a86c49675dbe303...|              5|                     5|             凌晨|             null|                35|                35|              null|                  0|                       0|                    null|                        1|                            3|                         null|                             1|                             3|                          null|                          917:1|          1:1,270:1,917:1|     1008:22,1055:2,10...| 1008:0.1477,1055:...|                 null|                 917:1|           1:3,270:1,917:4|      1:0.25,270:0.301,...|1:0.2702,270:0.30...|\n",
      "|555015100a2dcc692...|       1|           1|           1|  1|union_union_qq|    西安|    陕西|unknown|      unknown|     1|    7|   3|      0|                3|                    2|      2878|        0|        0|      0.0|      112|       0|        1|[\"1:0.1898\",\"18:0...|          2|[\"1:0.1898\",\"645:...|         2|       [\"37:0.1898\"]|           1|                null|                null|                null|                null|                  1:1|                null|           4|           0|               4|               0|36:0.8803,65:0.69...|                   0|36:2.0153,34:1.10...|                   0|            1:0.1872|                   0| 1:0.5601,645:0.0962|                   0|                  5| 3a50228bea075950a...|                    null|                 null|                 null|                null|              1|                     1|             晚上|                0|                 0|                 0|                 0|                  0|                       0|                       2|                        2|                            2|                            2|                             2|                             2|                     1:1,270:1|                      1:1,270:1|                1:1,270:1|     0:2,1008:3,124:17...| 0:0.0179,1008:0.0...|            1:1,270:1|             1:1,270:2|                 1:1,270:2|          1:1.0,270:0.6309|       1:1.0,270:1.0|\n",
      "|3b33c683bfe87d365...|       0|           1|           1|  0|      union_qq|    梧州|    广西|unknown|      unknown|     1|   17|   1|      0|                1|                    2|       840|        0|        0|      0.0|       88|       0|        1|[\"1:0.0956\",\"2:0....|          2|[\"187:0.0956\",\"17...|         2|[\"1449:0.0956\",\"2...|           2|                null|                null|                null|                null| 124:1,40:2,187:3,...|                null|           0|           0|               0|               4|                   0|                   0|                   0|41:1.784,88:1.595...|                   0|                   0|                   0|124:0.188,40:0.09...|                  5| 01f8e1c05b7262e8f...|                    null|                 null|                 null|                null|              3|                     3|             午夜|             null|              null|              null|              null|               null|                    null|                    null|                     null|                         null|                         null|                          null|                          null|                          null|                           null|                     null|     1008:3,1162:1,119...| 1008:0.0341,1162:...|                 null|                  null|                      null|                      null|                null|\n",
      "|e91d5843ccad719d0...|       0|           1|           1|  1|union_union_qq|    廊坊|    河北| HUAWEI|     ANA-AN00|     4|   17|  20|      3|               20|                    7|     32074|        0|        0|      0.0|       20|       0|        1|[\"9:3.1070\",\"1:2....|          5|[\"33:1.9527\",\"181...|        14|[\"1130:1.2960\",\"2...|          19|         625:1,438:2|625:1.0,438:1.0,1...|   625:1,438:2,194:3|194:0.4231,438:0....| 438:1,625:2,194:3...|430:0.4,625:0.3,2...|           4|           4|               4|               8|79:1.455,50:1.165...|63:2.3558,43:0.87...|63:3.4664,47:3.06...|19:1.3063,88:1.28...|625:1.4548,438:1....|194:0.1933,438:0....|194:0.2893,438:0....|438:0.3703,194:0....|                  5| 07478afaaecea03a6...|    d3aa697a2f259699b...|                 null| a4ab30fdea4a0f780...|61524f084f4617d98...|              1|                     1|             午夜|               24|                24|                24|                 0|                  0|                       0|                       3|                       11|                           22|                            3|                             7|                            11|               174:1,178:1,1:1|           174:2,178:4,181:1...|     174:2,178:4,181:4...|     124:1,1282:1,174:...| 124:0.05,1282:0.0...|      174:1,178:1,1:1|  174:3,178:4,181:1...|      174:5,178:7,181:3...|      174:0.2789,178:0....|174:1.0,178:1.0,1...|\n",
      "|0525d090e1cf1753a...|       0|           0|           0|  0|  union_weixin|    无锡|    江苏|   OPPO|       PCHM10|     8|    2|  23|      0|               23|                    2|    139377|        0|        0|      0.0|        5|       0|        1|[\"1:4.5840\",\"15:1...|          2|[\"66:1.5902\",\"14:...|         6|[\"1157:1.3149\",\"1...|           4|           66:1,14:2|66:1.0,14:1.0,201...|           66:1,14:2|66:0.8,14:0.3333,...|        66:1,14:2,1:3|66:0.6296,14:0.2,...|           4|           4|               8|               4|48:1.2102,1:0.457...|                   0|76:2.2305,48:1.21...|65:1.9096,25:1.56...| 66:1.7737,14:1.5687|66:0.1903,14:0.18...|66:0.5972,1:0.283...|66:0.5111,14:0.37...|                  5| 488fc621dbe686145...|                    null|                 null| b3287335572d396f2...|b3287335572d396f2...|              1|                     1|             午夜|                0|                 0|                 0|                 0|                  0|                       0|                       3|                        6|                           17|                            3|                             4|                             7|               1795:1,1:1,66:1|           14:1,1795:1,1:3,66:1|     1008:1,14:1,1795:...|     1795:1,1:3,26:1,66:1| 1795:0.1667,1:0.5...|      1795:1,1:1,66:1|  14:1,1795:1,1:2,66:2|      1008:2,14:1,1795:...|      1008:0.2702,14:0....|1008:0.3155,14:0....|\n",
      "|c03861eef04571e5a...|       0|           0|           1|  0|      union_qq|    温州|    浙江| Xiaomi|     MI MAX 2|     1|    5|   2|      2|                2|                    1|      3710|        0|        0|      0.0|       13|       0|        1|        [\"1:1.3620\"]|          1|[\"5:1.2286\",\"29:0...|         2|[\"136:0.7595\",\"13...|           4|                 5:1|                null|                 5:1|                null|                  5:1|                null|           8|           0|               0|               0|89:20.3493,90:15....|                   0|                   0|                   0|           5:18.4304|                   0|                   0|                   0|                  5| 021bbc7ee20b71134...|                    null|                 null| 021bbc7ee20b71134...|021bbc7ee20b71134...|             16|                    16|             凌晨|             null|              null|              null|              null|               null|                    null|                    null|                     null|                         null|                         null|                          null|                          null|                          null|                           null|                     null|      201:1,29:2,55:1,5:9| 201:0.0769,29:0.1...|                 null|                  null|                      null|                      null|                null|\n",
      "|3ca4b234450b18e75...|       0|           1|           1|  0|      union_qq|    吉安|    江西|  HONOR|     YAL-AL10|     8|   16|  28|     19|               28|                    5|    181408|        0|        0|      0.0|      108|       0|        1|[\"1:15.7109\",\"9:4...|          5|[\"917:8.7015\",\"1:...|         9|[\"1640:4.7434\",\"2...|          18|               917:1|194:1.0,350:1.0,9...|917:1,1:2,350:3,1...|350:0.6522,917:0....| 917:1,1:2,350:3,1...|350:0.5464,917:0....|           8|           8|               8|               8|1:1.7051,22:0.748...|1:0.8491,4:0.4592...|36:1.6808,34:0.73...|1:1.161,4:0.5907,...|917:3.2598,1:1.60...|1:0.8802,917:0.48...|1:2.8718,917:2.12...|917:2.1752,1:1.83...|                  5| 098c3d5b1cf4a1fc7...|                    null|                 null| ad7371448759bc9ad...|01f0e26ee9ad0c6dc...|              1|                     1|             午夜|                2|                 2|                 2|                 0|                  0|                       0|                      15|                       27|                           45|                            6|                             8|                             9|          124:1,174:1,1:4,3...|           124:1,174:1,1:7,2...|     124:1,174:1,1920:...|     1008:3,1223:1,124...| 1008:0.0275,1223:...| 124:1,174:1,1:1,3...|  124:1,174:2,1:7,2...|      124:2,174:3,1920:...|      124:0.3155,174:0....|124:1.0,174:1.0,1...|\n",
      "|28992ce4a681579c0...|       0|           1|           1|  1|      union_qq|    深圳|    广东| xiaomi| Redmi Note 7|     1|   10|   4|      0|                4|                    1|      6974|        0|        0|      0.0|       65|       0|        1|        [\"1:0.3876\"]|          1|        [\"1:0.3876\"]|         1|[\"1876:0.2901\",\"3...|           2|                null|                null|                null|                null|                  1:1|                null|           0|           0|               2|               4|                   0|                   0|21:0.2994,34:0.28...|37:0.4836,8:0.418...|                   0|                   0|            1:0.0995| 1:0.0976,270:0.0921|                  6| 16a92fe35a9f83788...|                    null|                 null|                 null|                null|              2|                     2|             午夜|             null|                 3|                 3|              null|                  0|                       0|                    null|                        1|                            1|                         null|                             1|                             1|                          null|                            1:1|                      1:1|     1024:1,124:2,174:...| 1024:0.0154,124:0...|                 null|                   1:1|                       1:1|                  1:0.6309|            1:0.6309|\n",
      "|54e9427087e6bb09b...|       0|           1|           1|  0|      union_qq|    乐山|    四川| iphone|      unknown|     8|   24|  26|      1|               26|                    2|    323618|        0|        0|      0.0|       98|       0|        1|[\"1:5.3210\",\"2:1....|          2|[\"917:4.0800\",\"18...|         8|[\"1640:3.3122\",\"1...|          13|               187:1|                null|187:1,917:2,183:3...|                null| 187:1,917:2,183:3...|                null|           4|           4|               8|               8|10:2.7252,1:1.253...|22:0.3184,79:0.23...|79:3.1882,1:1.316...|79:4.8494,10:4.03...|187:1.7717,917:0.789|917:0.5931,187:0....|917:1.4461,187:0....|917:1.171,187:0.9...|                  5| 0cb9b6f5273bc4396...|                    null|                 null| abd1c782880cc5975...|591285081ae80549d...|              1|                     1|             午夜|             null|              null|              null|              null|               null|                    null|                    null|                     null|                         null|                         null|                          null|                          null|                          null|                           null|                     null|     1008:3,1133:1,124...| 1008:0.0306,1133:...|                 null|                  null|                      null|                      null|                null|\n",
      "|6e681346dde5d4211...|       0|           0|           1|  0|          null|    嘉兴|    浙江| iphone|      unknown|     1|    5|   7|      0|                7|                    1|      5657|        0|        0|      0.0|       13|       0|        1|        [\"1:0.8788\"]|          1|[\"2:0.7921\",\"5:0....|         2|[\"155:0.6117\",\"17...|           3|                null|                null|                 2:1|                null|                  2:1|                null|           0|           2|               2|               1|                   0|39:4.3852,38:0.45...|39:10.4058,38:1.8...|39:1.6354,38:0.96...|                   0|            2:0.1106|            2:0.2881|            2:0.0912|                  5| 20e35a6e3c0f23a45...|                    null|                 null|                 null|01f635c1bb551bcd9...|             22|                    22|             晚上|             null|              null|              null|              null|               null|                    null|                    null|                     null|                         null|                         null|                          null|                          null|                          null|                           null|                     null|     174:1,1:1,217:2,2...| 174:0.0769,1:0.07...|                 null|                  null|                      null|                      null|                null|\n",
      "|fdfe23d081da95b8d...|       0|           1|           1|  0|      union_qq|    合肥|    安徽| Xiaomi|Redmi K20 Pro|     1|   21|   6|      9|                6|                    3|     15321|        0|        0|      0.0|       62|       0|        1|[\"1:0.5767\",\"2:0....|          3|[\"6:0.5767\",\"174:...|         5|[\"106:0.3018\",\"25...|           7|                null|                null|               174:1|                null|   174:1,1806:2,194:3|                null|           0|           0|               4|               8|                   0|                   0|47:2.1343,63:0.84...|19:2.88,18:2.1286...|                   0|                   0|1806:0.099,194:0....|6:0.3721,174:0.11...|                  5| 0919e519e0c70ce15...|                    null|                 null|                 null|e31b798771ca7fe76...|              1|                     1|             午夜|                3|                 3|                 3|                 0|                  0|                       0|                       3|                        3|                            3|                            2|                             2|                             2|                   194:2,674:1|                    194:2,674:1|              194:2,674:1|     1008:1,124:1,1282...| 1008:0.0161,124:0...|          194:1,674:1|           194:1,674:1|               194:1,674:1|           194:1.0,674:1.0|     194:1.0,674:1.0|\n",
      "|3796579c160a978c5...|       0|           0|           1|  0|  union_weixin|    唐山|    河北|unknown|      unknown|     1|    3|   6|      0|                6|                    2|      9641|        0|        0|      0.0|       19|       0|        1|[\"9:0.6869\",\"1:0....|          2|[\"350:0.4009\",\"29...|         3|[\"2325:0.4009\",\"2...|           3|                null|                null|         350:1,181:2|                null|     181:1,350:2,29:3|                null|           2|           2|               4|               4|34:0.2979,37:0.29...|34:0.2979,37:0.29...|1:0.717,34:0.5958...|19:2.8475,34:0.68...|          181:0.0944|          181:0.0957|181:0.1999,350:0....|29:0.1954,181:0.1...|                  5| 21f2fd65def01475b...|                    null|                 null|                 null|b56a18e0eacdf51aa...|              6|                     6|             傍晚|             null|                 0|                 0|              null|                  0|                       0|                    null|                        2|                            3|                         null|                             2|                             2|                          null|                    181:1,350:1|              181:2,350:1|     181:12,1920:1,208...| 181:0.6316,1920:0...|                 null|           181:1,350:1|               181:3,350:1|      181:0.2702,350:0....|181:0.3562,350:0....|\n",
      "|8afc9f967c2639df5...|       0|           1|           1|  0|  union_weixin|    焦作|    河南| HUAWEI|     SEA-AL00|     4|    7|  16|     35|               16|                    3|    287300|        0|        0|      0.0|       45|       0|        1|[\"9:5.0906\",\"2:1....|          3|[\"181:4.6758\",\"19...|         7|[\"224:3.0588\",\"21...|          10|               181:1|181:0.5,1097:0.0,...|               181:1|181:0.56,350:0.11...| 181:1,194:2,1097:...|181:0.5195,270:0....|           4|           4|               8|               8|                   0|63:0.833,14:0.451...|37:1.5044,34:1.29...|37:2.3175,34:2.29...|181:3.0009,350:0.097|181:0.4242,194:0....|           181:1.095|181:1.4071,194:0....|                  5| 2d3edd37742560c89...|                    null|                 null| 775cb5ab879013cde...|2bb33cd845b197d4e...|              1|                     1|             午夜|                0|                 0|                 0|                 0|                  0|                       0|                       5|                       15|                           20|                            2|                             6|                             7|                   181:4,350:1|           181:10,183:1,1:1,...|     181:11,183:2,194:...|     1008:2,1056:1,109...| 1008:0.0426,1056:...|          181:1,350:1|  181:7,183:1,1:1,3...|      181:14,183:2,194:...|      181:0.256,183:0.2...|181:1.0,183:0.356...|\n",
      "+--------------------+--------+------------+------------+---+--------------+--------+--------+-------+-------------+------+-----+----+-------+-----------------+---------------------+----------+---------+---------+---------+---------+--------+---------+--------------------+-----------+--------------------+----------+--------------------+------------+--------------------+--------------------+--------------------+--------------------+---------------------+--------------------+------------+------------+----------------+----------------+--------------------+--------------------+--------------------+--------------------+--------------------+--------------------+--------------------+--------------------+-------------------+---------------------+------------------------+---------------------+---------------------+--------------------+---------------+----------------------+-----------------+-----------------+------------------+------------------+------------------+-------------------+------------------------+------------------------+-------------------------+-----------------------------+-----------------------------+------------------------------+------------------------------+------------------------------+-------------------------------+-------------------------+-------------------------+---------------------+---------------------+----------------------+--------------------------+--------------------------+--------------------+\n",
      "only showing top 20 rows"
     ]
    }
   ],
   "source": [
    "df_user = spark.read.format('csv').\\\n",
    "    options(header='true', inferSchema='true', encoding='utf8', sep='\\t').\\\n",
    "    load(user_s3_address)\n",
    "\n",
    "user_schema = StructType([\n",
    "    StructField('uid', StringType(), True),\n",
    "StructField('own_room', StringType(), True),\n",
    "StructField('email_status', StringType(), True),\n",
    "StructField('phone_status', StringType(), True),\n",
    "StructField('sex', StringType(), True),\n",
    "StructField('src', StringType(), True),\n",
    "StructField('city', StringType(), True),\n",
    "StructField('province', StringType(), True),\n",
    "StructField('brand', StringType(), True),\n",
    "StructField('model', StringType(), True),\n",
    "StructField('active', StringType(), True),\n",
    "StructField('level', StringType(), True),\n",
    "StructField('days', StringType(), True),\n",
    "StructField('msg_cnt', StringType(), True),\n",
    "StructField('effect_watch_days', StringType(), True),\n",
    "StructField('effect_watch_room_cnt', StringType(), True),\n",
    "StructField('watch_time', StringType(), True),\n",
    "StructField('yuwan_tag', StringType(), True),\n",
    "StructField('yuwan_cnt', StringType(), True),\n",
    "StructField('yuchi_cnt', StringType(), True),\n",
    "StructField('follownum', StringType(), True),\n",
    "StructField('rich_tag', StringType(), True),\n",
    "StructField('loser_tag', StringType(), True),\n",
    "StructField('cate', StringType(), True),\n",
    "StructField('cate_length', StringType(), True),\n",
    "StructField('tag', StringType(), True),\n",
    "StructField('tag_length', StringType(), True),\n",
    "StructField('child', StringType(), True),\n",
    "StructField('child_length', StringType(), True),\n",
    "StructField('user_tag_favor_1_day', StringType(), True),\n",
    "StructField('tag_ratio_1_day', StringType(), True),\n",
    "StructField('user_tag_favor_7_day', StringType(), True),\n",
    "StructField('tag_ratio_7_day', StringType(), True),\n",
    "StructField('user_tag_favor_15_day', StringType(), True),\n",
    "StructField('tag_ratio_15_day', StringType(), True),\n",
    "StructField('u_active_mon', StringType(), True),\n",
    "StructField('u_active_fri', StringType(), True),\n",
    "StructField('u_active_weekday', StringType(), True),\n",
    "StructField('u_active_weekend', StringType(), True),\n",
    "StructField('u_favor_mon', StringType(), True),\n",
    "StructField('u_favor_fri', StringType(), True),\n",
    "StructField('u_favor_weekday', StringType(), True),\n",
    "StructField('u_favor_weekend', StringType(), True),\n",
    "StructField('u_i_c_favor_mon', StringType(), True),\n",
    "StructField('u_i_c_favor_fri', StringType(), True),\n",
    "StructField('u_i_c_favor_weekday', StringType(), True),\n",
    "StructField('u_i_c_favor_weekend', StringType(), True),\n",
    "StructField('follow_room_top10_m', StringType(), True),\n",
    "StructField('unfollow_room_top10_m', StringType(), True),\n",
    "StructField('follow_yuba_room_top10_m', StringType(), True),\n",
    "StructField('favor_room_1d_top10_m', StringType(), True),\n",
    "StructField('favor_room_7d_top10_m', StringType(), True),\n",
    "StructField('near_login_days', StringType(), True),\n",
    "StructField('near_watch_days', StringType(), True),\n",
    "StructField('watch_period_favor_30d', StringType(), True),\n",
    "StructField('guess_join_cnt_1d', StringType(), True),\n",
    "StructField('guess_join_cnt_7d', StringType(), True),\n",
    "StructField('guess_join_cnt_15d', StringType(), True),\n",
    "StructField('raffle_join_cnt_1d', StringType(), True),\n",
    "StructField('raffle_join_cnt_7d', StringType(), True),\n",
    "StructField('raffle_join_cnt_15d', StringType(), True),\n",
    "StructField('effect_watch_room_cnt_1d', StringType(), True),\n",
    "StructField('effect_watch_room_cnt_7d', StringType(), True),\n",
    "StructField('effect_watch_room_cnt_15d', StringType(), True),\n",
    "StructField('effect_watch_live_cate_cnt_1d', StringType(), True),\n",
    "StructField('effect_watch_live_cate_cnt_7d', StringType(), True),\n",
    "StructField('effect_watch_live_cate_cnt_15d', StringType(), True),\n",
    "StructField('effect_watch_cate_rooms_cnt_1d', StringType(), True),\n",
    "StructField('effect_watch_cate_rooms_cnt_7d', StringType(), True),\n",
    "StructField('effect_watch_cate_rooms_cnt_15d', StringType(), True),\n",
    "StructField('uid_attend_cate_aids_nums', StringType(), True),\n",
    "StructField('uid_attend_cate_aids_rate', StringType(), True),\n",
    "StructField('uid_watch_cate_cnt_1d', StringType(), True),\n",
    "StructField('uid_watch_cate_cnt_7d', StringType(), True),\n",
    "StructField('uid_watch_cate_cnt_15d', StringType(), True),\n",
    "StructField('uid_watch_cate_maxtime_15d', StringType(), True),\n",
    "StructField('uid_watch_cate_mintime_15d', StringType(), True),\n",
    "StructField('user_group', StringType(), True),\n",
    "]\n",
    ")\n",
    "\n",
    "\n",
    "df_user = spark.createDataFrame(data = df_user.rdd, schema = user_schema)\n",
    "\n",
    "df_user.show()\n",
    "\n",
    "#fillna\n",
    "df_user = df_user.fillna(0)\n"
   ]
  },
  {
   "cell_type": "code",
   "execution_count": 5,
   "metadata": {},
   "outputs": [
    {
     "data": {
      "application/vnd.jupyter.widget-view+json": {
       "model_id": "0b920e7c249c4af49946c18f36ad6849",
       "version_major": 2,
       "version_minor": 0
      },
      "text/plain": [
       "VBox()"
      ]
     },
     "metadata": {},
     "output_type": "display_data"
    },
    {
     "data": {
      "application/vnd.jupyter.widget-view+json": {
       "model_id": "",
       "version_major": 2,
       "version_minor": 0
      },
      "text/plain": [
       "FloatProgress(value=0.0, bar_style='info', description='Progress:', layout=Layout(height='25px', width='50%'),…"
      ]
     },
     "metadata": {},
     "output_type": "display_data"
    },
    {
     "name": "stdout",
     "output_type": "stream",
     "text": [
      "+--------------------+--------------------+----------+---------+\n",
      "|                 uid|             room_id|watch_time|watch_cnt|\n",
      "+--------------------+--------------------+----------+---------+\n",
      "|d41d8cd98f00b204e...|0d02c763e487d0d0c...|       965|        1|\n",
      "|d41d8cd98f00b204e...|aedbb569a96b299f6...|      5833|        1|\n",
      "|d41d8cd98f00b204e...|db278c63f7701b7ef...|    500403|        5|\n",
      "|d41d8cd98f00b204e...|b112d3732c00481dd...|    344882|        1|\n",
      "|d41d8cd98f00b204e...|b46626d0b1d7c9dc5...| 232656130|      359|\n",
      "|d41d8cd98f00b204e...|d752301454cd17aab...| 302142468|      698|\n",
      "|d41d8cd98f00b204e...|ac5dee31fad471e0a...|  26551349|      270|\n",
      "|d41d8cd98f00b204e...|b8955fbd59e3e7688...|    274390|        2|\n",
      "|d41d8cd98f00b204e...|9de85d862bc86cce2...|   9572343|      108|\n",
      "|d41d8cd98f00b204e...|95cfbc9160f4c2458...|   1568506|       11|\n",
      "|d41d8cd98f00b204e...|5ed9d6f25cc4b49fb...|  24297507|       16|\n",
      "|d41d8cd98f00b204e...|1f04dfccc3bb2a277...|   4521732|       21|\n",
      "|d41d8cd98f00b204e...|b8a5e7d0daffd377b...| 382130788|     1232|\n",
      "|d41d8cd98f00b204e...|1967fa3d021edfd5c...|   2323464|        3|\n",
      "|d41d8cd98f00b204e...|431442776227da358...|  48414235|       69|\n",
      "|d41d8cd98f00b204e...|0146c49e8deed00e8...|    113461|        4|\n",
      "|d41d8cd98f00b204e...|cc2d8962783cc7477...|   4261456|        5|\n",
      "|d41d8cd98f00b204e...|b43bb49ea60e9c771...|      8001|        1|\n",
      "|d41d8cd98f00b204e...|2f2b1b792f2a81a00...|      4414|        2|\n",
      "|d41d8cd98f00b204e...|3d944dde17b04c5ab...|    295161|        2|\n",
      "+--------------------+--------------------+----------+---------+\n",
      "only showing top 20 rows"
     ]
    }
   ],
   "source": [
    "from pyspark.sql.types import StructType, StructField, StringType, IntegerType,FloatType,DoubleType,LongType\n",
    "# uid: \n",
    "# room_id: \n",
    "# watch_time: (ms)\n",
    "# watch_cnt: click times per day\n",
    "df_weight = spark.read.format('csv').\\\n",
    "    options(header='true', inferSchema='true', encoding='utf8', sep='\\t').\\\n",
    "    load(weight_s3_address)\n",
    "\n",
    "weight_schema = StructType([\n",
    "    StructField('uid', StringType(), True),\n",
    "    StructField('room_id', StringType(), True),\n",
    "    StructField('watch_time', LongType(), True),\n",
    "    StructField('watch_cnt', IntegerType(), True),\n",
    "]\n",
    ")\n",
    "\n",
    "\n",
    "df_weight = spark.createDataFrame(data = df_weight.rdd, schema = weight_schema)\n",
    "\n",
    "df_weight.show()"
   ]
  },
  {
   "cell_type": "code",
   "execution_count": 6,
   "metadata": {},
   "outputs": [
    {
     "data": {
      "application/vnd.jupyter.widget-view+json": {
       "model_id": "2fc4e5a1e4a04df5b036e4844adb6e9d",
       "version_major": 2,
       "version_minor": 0
      },
      "text/plain": [
       "VBox()"
      ]
     },
     "metadata": {},
     "output_type": "display_data"
    },
    {
     "data": {
      "application/vnd.jupyter.widget-view+json": {
       "model_id": "",
       "version_major": 2,
       "version_minor": 0
      },
      "text/plain": [
       "FloatProgress(value=0.0, bar_style='info', description='Progress:', layout=Layout(height='25px', width='50%'),…"
      ]
     },
     "metadata": {},
     "output_type": "display_data"
    },
    {
     "name": "stdout",
     "output_type": "stream",
     "text": [
      "+-------------+--------------------+--------------------+--------------------+--------+-------+----+\n",
      "|     dateline|                 uid|             room_id|         action_code|user_pos|  ct_pt| src|\n",
      "+-------------+--------------------+--------------------+--------------------+--------+-------+----+\n",
      "|1608520873257|3a0ebc104c8c6faf9...|38b3eff8baf566274...|show_recommend_re...|       1|    ios|9831|\n",
      "|1608562029075|7f894553142e46cf3...|ae8b5aa26a3ae3161...|show_recommend_re...|       3|    ios|1005|\n",
      "|1608565452016|8d9fc5944d88166c1...|6d70d6bd21e71385f...|show_recommend_re...|      59|android|   0|\n",
      "|1608565345690|8d9fc5944d88166c1...|3ed304a448828ee2c...|show_recommend_re...|     172|android|1004|\n",
      "|1608518783435|b57629c6aaffeaed1...|ae9fb56eaa2096c74...|show_recommend_re...|       3|android|1005|\n",
      "|1608531578847|ac6ddf1e3c74ca94c...|89209f444391e9c72...|click_recommend_r...|       2|    ios|  55|\n",
      "|1608484996710|69c8bd124b713e8b9...|0a18cf521deddea8c...|show_recommend_re...|     114|    ios|1004|\n",
      "|1608484946325|69c8bd124b713e8b9...|36001f4939e329faf...|show_recommend_re...|      56|    ios|1002|\n",
      "|1608484992830|69c8bd124b713e8b9...|cc95bb7fffbc744ac...|show_recommend_re...|     134|    ios|1004|\n",
      "|1608556909540|be25a3298b6fda1f5...|4c6bbf1d3567350f3...|show_recommend_re...|       4|    ios|  55|\n",
      "|1608508490317|50e04f6ed1c580150...|2b6de282d7267dd6b...|show_recommend_re...|       9|    ios|1005|\n",
      "|1608561183217|d42ff1954b1212c10...|4adf96c36d79f3707...|show_recommend_re...|       2|    ios|  55|\n",
      "|1608528699744|d24db2834406ca5b5...|933ece81cf28cf00f...|show_recommend_re...|      54|android|1002|\n",
      "|1608528535273|d24db2834406ca5b5...|1e01827a1808d7313...|click_recommend_r...|      12|android|  55|\n",
      "|1608551037647|d24db2834406ca5b5...|dc1155a443d54381f...|show_recommend_re...|       5|android|9999|\n",
      "|1608515723549|d24db2834406ca5b5...|c881b020de44474e4...|show_recommend_re...|      30|android|  55|\n",
      "|1608545451028|613253dc62bea86cb...|21f2fd65def01475b...|show_recommend_re...|       6|android|  48|\n",
      "|1608531855684|613253dc62bea86cb...|040655a94844adaa0...|show_recommend_re...|       3|android|  48|\n",
      "|1608543920200|ff4bec9ccfb762d4b...|f461d3d27380658ea...|click_recommend_r...|       9|    ios|  55|\n",
      "|1608551010957|3ae61980b2ecce0c4...|c76ce786e8aa4f892...|show_recommend_re...|       7|    ios|1002|\n",
      "+-------------+--------------------+--------------------+--------------------+--------+-------+----+\n",
      "only showing top 20 rows"
     ]
    }
   ],
   "source": [
    "# uid: \n",
    "# room_id: \n",
    "# action_code: show_recommend|click_recommend\n",
    "# user_pos: position in push list(after sort?)\n",
    "# ct_pt: platform(ios/android)\n",
    "# src: recall source\n",
    "df_action_code = spark.read.format('csv').\\\n",
    "    options(header='true', inferSchema='False', encoding='utf8', sep='\\t').\\\n",
    "    load(action_s3_address)\n",
    "\n",
    "action_schema = StructType([\n",
    "    StructField('dateline', StringType(), True),\n",
    "    StructField('uid', StringType(), True),\n",
    "    StructField('room_id', StringType(), True),\n",
    "    StructField('action_code', StringType(), True),\n",
    "    StructField('user_pos', StringType(), True),\n",
    "    StructField('ct_pt', StringType(), True),\n",
    "    StructField('src', StringType(), True),\n",
    "]\n",
    ")\n",
    "\n",
    "df_action_code = spark.createDataFrame(data = df_action_code.rdd, schema = action_schema)\n",
    "\n",
    "df_action_code.show()"
   ]
  },
  {
   "cell_type": "code",
   "execution_count": 7,
   "metadata": {},
   "outputs": [
    {
     "data": {
      "application/vnd.jupyter.widget-view+json": {
       "model_id": "aaf0e036276b445b853a68f86bcf794a",
       "version_major": 2,
       "version_minor": 0
      },
      "text/plain": [
       "VBox()"
      ]
     },
     "metadata": {},
     "output_type": "display_data"
    },
    {
     "data": {
      "application/vnd.jupyter.widget-view+json": {
       "model_id": "",
       "version_major": 2,
       "version_minor": 0
      },
      "text/plain": [
       "FloatProgress(value=0.0, bar_style='info', description='Progress:', layout=Layout(height='25px', width='50%'),…"
      ]
     },
     "metadata": {},
     "output_type": "display_data"
    },
    {
     "name": "stdout",
     "output_type": "stream",
     "text": [
      "+--------------------+\n",
      "|                 uid|\n",
      "+--------------------+\n",
      "|5bb3e97dd0adecd7e...|\n",
      "|1a36f61185bf6ff40...|\n",
      "|5f0d7801c1ec95405...|\n",
      "|20f36cd5dd3d04450...|\n",
      "|c7aefd8b11c353e88...|\n",
      "|03ae395301b6a6c33...|\n",
      "|da3708694112c94dc...|\n",
      "|dba2d22b83fffcfe3...|\n",
      "|60614522f3f94a04e...|\n",
      "|aaa7c2a8ed4f06160...|\n",
      "|7fe449ffcf4aaec8f...|\n",
      "|34416d1ec348fbf2f...|\n",
      "|2ded47296a2b9e43f...|\n",
      "|2e4e8879b24ba9a9b...|\n",
      "|f8dcc9796922bf36a...|\n",
      "|79225f4a63ce1bf97...|\n",
      "|82e7d0e6ac4f1fd70...|\n",
      "|c490411d314bbfef5...|\n",
      "|669604f3b56ee34ad...|\n",
      "|b60feec01eddbf2c9...|\n",
      "+--------------------+\n",
      "only showing top 20 rows"
     ]
    }
   ],
   "source": [
    "df_black_user = spark.read.format('csv').\\\n",
    "    options(header='true', inferSchema='true', encoding='utf8', sep='\\t').\\\n",
    "    load(black_user_s3_address)\n",
    "\n",
    "black_user_schema = StructType([\n",
    "    StructField('uid', StringType(), True)\n",
    "]\n",
    ")\n",
    "\n",
    "df_black_user = spark.createDataFrame(data = df_black_user.rdd, schema = black_user_schema)\n",
    "\n",
    "df_black_user.show()"
   ]
  },
  {
   "cell_type": "markdown",
   "metadata": {},
   "source": [
    "# process label"
   ]
  },
  {
   "cell_type": "code",
   "execution_count": 8,
   "metadata": {},
   "outputs": [
    {
     "data": {
      "application/vnd.jupyter.widget-view+json": {
       "model_id": "345d53ebd1044746a74afcb96a1eb546",
       "version_major": 2,
       "version_minor": 0
      },
      "text/plain": [
       "VBox()"
      ]
     },
     "metadata": {},
     "output_type": "display_data"
    },
    {
     "data": {
      "application/vnd.jupyter.widget-view+json": {
       "model_id": "",
       "version_major": 2,
       "version_minor": 0
      },
      "text/plain": [
       "FloatProgress(value=0.0, bar_style='info', description='Progress:', layout=Layout(height='25px', width='50%'),…"
      ]
     },
     "metadata": {},
     "output_type": "display_data"
    }
   ],
   "source": [
    "#convert to datetime\n",
    "df_action_code = df_action_code.withColumn('datetamp', (df_action_code.dateline/1e3).cast(IntegerType()))\n",
    "df_action_code = df_action_code.withColumn('datetamp2', from_unixtime(df_action_code.datetamp))"
   ]
  },
  {
   "cell_type": "code",
   "execution_count": 9,
   "metadata": {},
   "outputs": [
    {
     "data": {
      "application/vnd.jupyter.widget-view+json": {
       "model_id": "c468fa0cd8584dfa9af276697887d763",
       "version_major": 2,
       "version_minor": 0
      },
      "text/plain": [
       "VBox()"
      ]
     },
     "metadata": {},
     "output_type": "display_data"
    },
    {
     "data": {
      "application/vnd.jupyter.widget-view+json": {
       "model_id": "",
       "version_major": 2,
       "version_minor": 0
      },
      "text/plain": [
       "FloatProgress(value=0.0, bar_style='info', description='Progress:', layout=Layout(height='25px', width='50%'),…"
      ]
     },
     "metadata": {},
     "output_type": "display_data"
    },
    {
     "name": "stdout",
     "output_type": "stream",
     "text": [
      "+------------------------------+--------------------------------------+\n",
      "|action_code                   |count(DISTINCT uid, room_id, dateline)|\n",
      "+------------------------------+--------------------------------------+\n",
      "|click_recommend_recom_hot_room|10613801                              |\n",
      "|show_recommend_recom_liveroom |766                                   |\n",
      "|click_recommend_recom_liveroom|36                                    |\n",
      "|show_recommend_recom_hot_room |80878007                              |\n",
      "+------------------------------+--------------------------------------+"
     ]
    }
   ],
   "source": [
    "from pyspark.sql import functions as F\n",
    "\n",
    "df_action_code.groupBy(\"action_code\").agg(F.countDistinct(\"uid\", \"room_id\",\"dateline\")).show(truncate=False)"
   ]
  },
  {
   "cell_type": "code",
   "execution_count": 10,
   "metadata": {},
   "outputs": [
    {
     "data": {
      "application/vnd.jupyter.widget-view+json": {
       "model_id": "6a919c5e33c64eefa9e203d99ed972ce",
       "version_major": 2,
       "version_minor": 0
      },
      "text/plain": [
       "VBox()"
      ]
     },
     "metadata": {},
     "output_type": "display_data"
    },
    {
     "data": {
      "application/vnd.jupyter.widget-view+json": {
       "model_id": "",
       "version_major": 2,
       "version_minor": 0
      },
      "text/plain": [
       "FloatProgress(value=0.0, bar_style='info', description='Progress:', layout=Layout(height='25px', width='50%'),…"
      ]
     },
     "metadata": {},
     "output_type": "display_data"
    }
   ],
   "source": [
    "from pyspark.sql.types import StructType, StructField, StringType, IntegerType,FloatType,DoubleType,LongType\n",
    "\n",
    "def convert_label(x):\n",
    "    if x=='click_recommend_recom_hot_room' or x=='click_recommend_recom_liveroom':\n",
    "        return 1\n",
    "    else:\n",
    "        return 0\n",
    "\n",
    "#use age, owner_level,sex,fans\n",
    "udf_func_convert = udf(lambda x: convert_label(x),returnType=IntegerType())\n",
    "df_action_code = df_action_code.withColumn(\"label\",udf_func_convert(df_action_code[\"action_code\"]))\n",
    "\n",
    "df_action_code_agg = df_action_code.groupby(df_action_code.uid,df_action_code.room_id).\\\n",
    "agg(f.max('label').alias(\"label_click\"))"
   ]
  },
  {
   "cell_type": "code",
   "execution_count": 11,
   "metadata": {},
   "outputs": [
    {
     "data": {
      "application/vnd.jupyter.widget-view+json": {
       "model_id": "a78b6e65368042d593a5cb05314f26df",
       "version_major": 2,
       "version_minor": 0
      },
      "text/plain": [
       "VBox()"
      ]
     },
     "metadata": {},
     "output_type": "display_data"
    },
    {
     "data": {
      "application/vnd.jupyter.widget-view+json": {
       "model_id": "",
       "version_major": 2,
       "version_minor": 0
      },
      "text/plain": [
       "FloatProgress(value=0.0, bar_style='info', description='Progress:', layout=Layout(height='25px', width='50%'),…"
      ]
     },
     "metadata": {},
     "output_type": "display_data"
    },
    {
     "name": "stdout",
     "output_type": "stream",
     "text": [
      "+-----+----------------------------+\n",
      "|label|count(DISTINCT uid, room_id)|\n",
      "+-----+----------------------------+\n",
      "|1    |10303567                    |\n",
      "|0    |77854116                    |\n",
      "+-----+----------------------------+"
     ]
    }
   ],
   "source": [
    "df_action_code.groupBy(\"label\").agg(F.countDistinct(\"uid\", \"room_id\")).show(truncate=False)"
   ]
  },
  {
   "cell_type": "code",
   "execution_count": 12,
   "metadata": {},
   "outputs": [
    {
     "data": {
      "application/vnd.jupyter.widget-view+json": {
       "model_id": "7c581fd22d1c4106a43e7df4135e936c",
       "version_major": 2,
       "version_minor": 0
      },
      "text/plain": [
       "VBox()"
      ]
     },
     "metadata": {},
     "output_type": "display_data"
    },
    {
     "data": {
      "application/vnd.jupyter.widget-view+json": {
       "model_id": "",
       "version_major": 2,
       "version_minor": 0
      },
      "text/plain": [
       "FloatProgress(value=0.0, bar_style='info', description='Progress:', layout=Layout(height='25px', width='50%'),…"
      ]
     },
     "metadata": {},
     "output_type": "display_data"
    },
    {
     "name": "stdout",
     "output_type": "stream",
     "text": [
      "root\n",
      " |-- dateline: string (nullable = true)\n",
      " |-- uid: string (nullable = true)\n",
      " |-- room_id: string (nullable = true)\n",
      " |-- action_code: string (nullable = true)\n",
      " |-- user_pos: string (nullable = true)\n",
      " |-- ct_pt: string (nullable = true)\n",
      " |-- src: string (nullable = true)\n",
      " |-- datetamp: integer (nullable = true)\n",
      " |-- datetamp2: string (nullable = true)\n",
      " |-- label: integer (nullable = true)"
     ]
    }
   ],
   "source": [
    "df_action_code.printSchema()"
   ]
  },
  {
   "cell_type": "code",
   "execution_count": 13,
   "metadata": {},
   "outputs": [
    {
     "data": {
      "application/vnd.jupyter.widget-view+json": {
       "model_id": "ed1232414df84126bb6cb24a533021d0",
       "version_major": 2,
       "version_minor": 0
      },
      "text/plain": [
       "VBox()"
      ]
     },
     "metadata": {},
     "output_type": "display_data"
    },
    {
     "data": {
      "application/vnd.jupyter.widget-view+json": {
       "model_id": "",
       "version_major": 2,
       "version_minor": 0
      },
      "text/plain": [
       "FloatProgress(value=0.0, bar_style='info', description='Progress:', layout=Layout(height='25px', width='50%'),…"
      ]
     },
     "metadata": {},
     "output_type": "display_data"
    },
    {
     "name": "stdout",
     "output_type": "stream",
     "text": [
      "+-----------+----------------------------+\n",
      "|label_click|count(DISTINCT uid, room_id)|\n",
      "+-----------+----------------------------+\n",
      "|1          |10303567                    |\n",
      "|0          |67721205                    |\n",
      "+-----------+----------------------------+"
     ]
    }
   ],
   "source": [
    "df_action_code_agg.groupBy(\"label_click\").agg(F.countDistinct(\"uid\", \"room_id\")).show(truncate=False)"
   ]
  },
  {
   "cell_type": "code",
   "execution_count": 14,
   "metadata": {},
   "outputs": [
    {
     "data": {
      "application/vnd.jupyter.widget-view+json": {
       "model_id": "c24b1abbf52b4931868e7cbce3ba8d58",
       "version_major": 2,
       "version_minor": 0
      },
      "text/plain": [
       "VBox()"
      ]
     },
     "metadata": {},
     "output_type": "display_data"
    },
    {
     "data": {
      "application/vnd.jupyter.widget-view+json": {
       "model_id": "",
       "version_major": 2,
       "version_minor": 0
      },
      "text/plain": [
       "FloatProgress(value=0.0, bar_style='info', description='Progress:', layout=Layout(height='25px', width='50%'),…"
      ]
     },
     "metadata": {},
     "output_type": "display_data"
    }
   ],
   "source": [
    "#group by userid, roomid\n",
    "#此处将曝光未点击的记录，直接当成曝光点击的前置部分？？？如果两者时间差别比较大呢？\n",
    "df_action_code_agg = df_action_code.groupby(df_action_code.uid,df_action_code.room_id).\\\n",
    "agg(f.max('label').alias(\"label_click\"))\n",
    "#left join watch to filter conversion\n",
    "df_res = df_action_code_agg.join(df_weight,on=[\"room_id\",\"uid\"],how='left')\n",
    "#convert watchtime to second\n",
    "df_res2 = df_res.withColumn(\"time_min\", df_res[\"watch_time\"]/60000)\n",
    "\n",
    "df_res2 = df_res2.fillna(0)"
   ]
  },
  {
   "cell_type": "code",
   "execution_count": 15,
   "metadata": {},
   "outputs": [
    {
     "data": {
      "application/vnd.jupyter.widget-view+json": {
       "model_id": "c2ba4c9a065f448bab135e5d7b7ea5a9",
       "version_major": 2,
       "version_minor": 0
      },
      "text/plain": [
       "VBox()"
      ]
     },
     "metadata": {},
     "output_type": "display_data"
    },
    {
     "data": {
      "application/vnd.jupyter.widget-view+json": {
       "model_id": "",
       "version_major": 2,
       "version_minor": 0
      },
      "text/plain": [
       "FloatProgress(value=0.0, bar_style='info', description='Progress:', layout=Layout(height='25px', width='50%'),…"
      ]
     },
     "metadata": {},
     "output_type": "display_data"
    }
   ],
   "source": [
    "def convert_cvr_label(label_click,time_min):\n",
    "    if int(label_click)==1 and float(time_min)>5:\n",
    "        return 1\n",
    "    else:\n",
    "        return 0\n",
    "\n",
    "    \n",
    "udf_func_convert = udf(lambda x,y: convert_cvr_label(x,y),returnType=IntegerType())\n",
    "df_res2 = df_res2.withColumn(\"cvr_label\",udf_func_convert(df_res2[\"label_click\"],df_res2[\"time_min\"]))"
   ]
  },
  {
   "cell_type": "code",
   "execution_count": 16,
   "metadata": {},
   "outputs": [
    {
     "data": {
      "application/vnd.jupyter.widget-view+json": {
       "model_id": "0dfdb91bc60b4404893a0d10a430b820",
       "version_major": 2,
       "version_minor": 0
      },
      "text/plain": [
       "VBox()"
      ]
     },
     "metadata": {},
     "output_type": "display_data"
    },
    {
     "data": {
      "application/vnd.jupyter.widget-view+json": {
       "model_id": "",
       "version_major": 2,
       "version_minor": 0
      },
      "text/plain": [
       "FloatProgress(value=0.0, bar_style='info', description='Progress:', layout=Layout(height='25px', width='50%'),…"
      ]
     },
     "metadata": {},
     "output_type": "display_data"
    }
   ],
   "source": [
    "def convert_ctr_label(x,y):\n",
    "    if int(x)==1 and float(y)>2:\n",
    "        return 1\n",
    "    else:\n",
    "        return 0\n",
    "\n",
    "udf_func_convert = udf(lambda x,y: convert_ctr_label(x,y),returnType=IntegerType())\n",
    "df_res2 = df_res2.withColumn(\"ctr_label\",udf_func_convert(df_res2[\"label_click\"],df_res2[\"time_min\"]))"
   ]
  },
  {
   "cell_type": "code",
   "execution_count": 17,
   "metadata": {},
   "outputs": [
    {
     "data": {
      "application/vnd.jupyter.widget-view+json": {
       "model_id": "d0f9d7953de34301b7948e4a6ee39145",
       "version_major": 2,
       "version_minor": 0
      },
      "text/plain": [
       "VBox()"
      ]
     },
     "metadata": {},
     "output_type": "display_data"
    },
    {
     "data": {
      "application/vnd.jupyter.widget-view+json": {
       "model_id": "",
       "version_major": 2,
       "version_minor": 0
      },
      "text/plain": [
       "FloatProgress(value=0.0, bar_style='info', description='Progress:', layout=Layout(height='25px', width='50%'),…"
      ]
     },
     "metadata": {},
     "output_type": "display_data"
    },
    {
     "name": "stdout",
     "output_type": "stream",
     "text": [
      "+--------------------+--------------------+-----------+----------+---------+--------------------+---------+---------+-----------+\n",
      "|                 uid|             room_id|label_click|watch_time|watch_cnt|            time_min|cvr_label|ctr_label|black_label|\n",
      "+--------------------+--------------------+-----------+----------+---------+--------------------+---------+---------+-----------+\n",
      "|000025bbc8e3fd2a3...|b56a18e0eacdf51aa...|          0|         0|        0|                 0.0|        0|        0|       null|\n",
      "|000026c67a83fa72a...|f3475ed497caeab39...|          0|         0|        0|                 0.0|        0|        0|       null|\n",
      "|000048f2d4a90b363...|89209f444391e9c72...|          0|    611792|       10|  10.196533333333333|        0|        0|       null|\n",
      "|000069059776e2d3e...|5ec5fa5a5d586714f...|          0|         0|        0|                 0.0|        0|        0|       null|\n",
      "|000073176e737404d...|72204d87e2fec8e0e...|          0|      2017|        1| 0.03361666666666667|        0|        0|       null|\n",
      "|00011cf6740bf70c8...|ab38e6d41fbfd5519...|          0|         0|        0|                 0.0|        0|        0|       null|\n",
      "|00016ceb5146a40f0...|3a04cd492e8ee96d7...|          0|         0|        0|                 0.0|        0|        0|       null|\n",
      "|000188bb7f7b7cc7c...|788a583cff4dcd0f4...|          0|         0|        0|                 0.0|        0|        0|       null|\n",
      "|0001df5741ebb80eb...|9d955ba9a052482e0...|          0|         0|        0|                 0.0|        0|        0|       null|\n",
      "|0001f2928b472d61c...|d3aa697a2f259699b...|          1|    791895|        2|            13.19825|        1|        1|       null|\n",
      "|0002962709c469fca...|79cb2c1dd28715f85...|          0|         0|        0|                 0.0|        0|        0|       null|\n",
      "|0002b29f8c1511e70...|2e416af4d3e6063c6...|          0|         0|        0|                 0.0|        0|        0|       null|\n",
      "|0002ca522c5aae423...|bff752c748429a5a6...|          0|         0|        0|                 0.0|        0|        0|       null|\n",
      "|00030d256a57bd3d9...|defb7f7d24f643c91...|          1|    300000|        5|                 5.0|        0|        1|       null|\n",
      "|00038519cd0a7bdf6...|b0c10fe2cd917c512...|          0|         0|        0|                 0.0|        0|        0|       null|\n",
      "|00038519cd0a7bdf6...|c8ae4fb87949c8377...|          0|         0|        0|                 0.0|        0|        0|       null|\n",
      "|0003b8856543ba6df...|afe0a48a7b75be1bf...|          0|      2824|        1|0.047066666666666666|        0|        0|       null|\n",
      "|000436a19ad80b378...|7a79662012fbaac5e...|          0|      2778|        2|              0.0463|        0|        0|       null|\n",
      "|000471e419119798d...|247c0fc7356c21fc7...|          0|         0|        0|                 0.0|        0|        0|       null|\n",
      "|0004758d735bc24d5...|37be4210dcf47fca2...|          1|      1379|        2|0.022983333333333335|        0|        0|       null|\n",
      "+--------------------+--------------------+-----------+----------+---------+--------------------+---------+---------+-----------+\n",
      "only showing top 20 rows"
     ]
    }
   ],
   "source": [
    "#filter out black user\n",
    "df_black_user = df_black_user.withColumn(\"black_label\",lit(1))\n",
    "#join\n",
    "df_res3 = df_res2.join(df_black_user,on=[\"uid\"],how='left')\n",
    "#filter \n",
    "df_res3 = df_res3.filter('black_label is null')\n",
    "df_res3.show()"
   ]
  },
  {
   "cell_type": "code",
   "execution_count": 18,
   "metadata": {},
   "outputs": [
    {
     "data": {
      "application/vnd.jupyter.widget-view+json": {
       "model_id": "f7928dd91d0c475baafb5dff2f173c2e",
       "version_major": 2,
       "version_minor": 0
      },
      "text/plain": [
       "VBox()"
      ]
     },
     "metadata": {},
     "output_type": "display_data"
    },
    {
     "data": {
      "application/vnd.jupyter.widget-view+json": {
       "model_id": "",
       "version_major": 2,
       "version_minor": 0
      },
      "text/plain": [
       "FloatProgress(value=0.0, bar_style='info', description='Progress:', layout=Layout(height='25px', width='50%'),…"
      ]
     },
     "metadata": {},
     "output_type": "display_data"
    },
    {
     "name": "stdout",
     "output_type": "stream",
     "text": [
      "+---------+----------------------------+\n",
      "|cvr_label|count(DISTINCT uid, room_id)|\n",
      "+---------+----------------------------+\n",
      "|        1|                     3712019|\n",
      "|        0|                    74310081|\n",
      "+---------+----------------------------+"
     ]
    }
   ],
   "source": [
    "# distribution\n",
    "from pyspark.sql import functions as F\n",
    "\n",
    "df_res3.groupBy(\"cvr_label\").agg(F.countDistinct(\"uid\", \"room_id\")).show()\n",
    "        \n",
    "# negative sampling "
   ]
  },
  {
   "cell_type": "code",
   "execution_count": 19,
   "metadata": {},
   "outputs": [
    {
     "data": {
      "application/vnd.jupyter.widget-view+json": {
       "model_id": "17cbf3dfad084a59a221388e4d069594",
       "version_major": 2,
       "version_minor": 0
      },
      "text/plain": [
       "VBox()"
      ]
     },
     "metadata": {},
     "output_type": "display_data"
    },
    {
     "data": {
      "application/vnd.jupyter.widget-view+json": {
       "model_id": "",
       "version_major": 2,
       "version_minor": 0
      },
      "text/plain": [
       "FloatProgress(value=0.0, bar_style='info', description='Progress:', layout=Layout(height='25px', width='50%'),…"
      ]
     },
     "metadata": {},
     "output_type": "display_data"
    },
    {
     "name": "stdout",
     "output_type": "stream",
     "text": [
      "+---------+----------------------------+\n",
      "|ctr_label|count(DISTINCT uid, room_id)|\n",
      "+---------+----------------------------+\n",
      "|        1|                     4912055|\n",
      "|        0|                    73110045|\n",
      "+---------+----------------------------+"
     ]
    }
   ],
   "source": [
    "# distribution\n",
    "from pyspark.sql import functions as F\n",
    "\n",
    "df_res3.groupBy(\"ctr_label\").agg(F.countDistinct(\"uid\", \"room_id\")).show()\n",
    "        "
   ]
  },
  {
   "cell_type": "code",
   "execution_count": 20,
   "metadata": {},
   "outputs": [
    {
     "data": {
      "application/vnd.jupyter.widget-view+json": {
       "model_id": "68fb0ff8732941d3b35d9fd0fef6303f",
       "version_major": 2,
       "version_minor": 0
      },
      "text/plain": [
       "VBox()"
      ]
     },
     "metadata": {},
     "output_type": "display_data"
    },
    {
     "data": {
      "application/vnd.jupyter.widget-view+json": {
       "model_id": "",
       "version_major": 2,
       "version_minor": 0
      },
      "text/plain": [
       "FloatProgress(value=0.0, bar_style='info', description='Progress:', layout=Layout(height='25px', width='50%'),…"
      ]
     },
     "metadata": {},
     "output_type": "display_data"
    }
   ],
   "source": [
    "from pyspark.sql.functions import col\n",
    "\n",
    "# negative sampling \n",
    "train_0= df_res3.where(col('ctr_label')==0).sample(True, 0.07, seed = 2018)\n",
    "#step 2. Merge this data with label = 0 data\n",
    "\n",
    "train_1=df_res3.where(col('ctr_label')==1)\n",
    "train_final = train_0.union(train_1)"
   ]
  },
  {
   "cell_type": "code",
   "execution_count": 21,
   "metadata": {},
   "outputs": [
    {
     "data": {
      "application/vnd.jupyter.widget-view+json": {
       "model_id": "70fea80fe3654a57b9a5b7da2deb83ac",
       "version_major": 2,
       "version_minor": 0
      },
      "text/plain": [
       "VBox()"
      ]
     },
     "metadata": {},
     "output_type": "display_data"
    },
    {
     "data": {
      "application/vnd.jupyter.widget-view+json": {
       "model_id": "",
       "version_major": 2,
       "version_minor": 0
      },
      "text/plain": [
       "FloatProgress(value=0.0, bar_style='info', description='Progress:', layout=Layout(height='25px', width='50%'),…"
      ]
     },
     "metadata": {},
     "output_type": "display_data"
    },
    {
     "name": "stdout",
     "output_type": "stream",
     "text": [
      "+---------+----------------------------+\n",
      "|ctr_label|count(DISTINCT uid, room_id)|\n",
      "+---------+----------------------------+\n",
      "|        1|                     4912055|\n",
      "|        0|                     4943557|\n",
      "+---------+----------------------------+"
     ]
    }
   ],
   "source": [
    "train_final.groupBy(\"ctr_label\").agg(F.countDistinct(\"uid\", \"room_id\")).show()"
   ]
  },
  {
   "cell_type": "code",
   "execution_count": 22,
   "metadata": {},
   "outputs": [
    {
     "data": {
      "application/vnd.jupyter.widget-view+json": {
       "model_id": "1f1f37b7c7f549739e76d8d9a7b7cab3",
       "version_major": 2,
       "version_minor": 0
      },
      "text/plain": [
       "VBox()"
      ]
     },
     "metadata": {},
     "output_type": "display_data"
    },
    {
     "data": {
      "application/vnd.jupyter.widget-view+json": {
       "model_id": "",
       "version_major": 2,
       "version_minor": 0
      },
      "text/plain": [
       "FloatProgress(value=0.0, bar_style='info', description='Progress:', layout=Layout(height='25px', width='50%'),…"
      ]
     },
     "metadata": {},
     "output_type": "display_data"
    },
    {
     "name": "stdout",
     "output_type": "stream",
     "text": [
      "+---------+----------------------------+\n",
      "|cvr_label|count(DISTINCT uid, room_id)|\n",
      "+---------+----------------------------+\n",
      "|        1|                     3712019|\n",
      "|        0|                     6143593|\n",
      "+---------+----------------------------+"
     ]
    }
   ],
   "source": [
    "train_final.groupBy(\"cvr_label\").agg(F.countDistinct(\"uid\", \"room_id\")).show()"
   ]
  },
  {
   "cell_type": "markdown",
   "metadata": {},
   "source": [
    "# process item "
   ]
  },
  {
   "cell_type": "code",
   "execution_count": 23,
   "metadata": {},
   "outputs": [
    {
     "data": {
      "application/vnd.jupyter.widget-view+json": {
       "model_id": "8cedcbef52324de2b0cf4c9560c9e312",
       "version_major": 2,
       "version_minor": 0
      },
      "text/plain": [
       "VBox()"
      ]
     },
     "metadata": {},
     "output_type": "display_data"
    },
    {
     "data": {
      "application/vnd.jupyter.widget-view+json": {
       "model_id": "",
       "version_major": 2,
       "version_minor": 0
      },
      "text/plain": [
       "FloatProgress(value=0.0, bar_style='info', description='Progress:', layout=Layout(height='25px', width='50%'),…"
      ]
     },
     "metadata": {},
     "output_type": "display_data"
    }
   ],
   "source": [
    "#processs item feature\n",
    "#cate_id\n",
    "#child_id \n",
    "#tag_id\n",
    "def regex_filter(x):\n",
    "    try:\n",
    "        a = list(json.loads(x).values())\n",
    "    except:\n",
    "        raise (\"exception!\")\n",
    "    \n",
    "    #return ['owner_exp','owner_uid','cate_id','age','sex','room_name',\\\n",
    "    #'owner_level','fans','child_id','cq','msgWords','tag_id','constellation']\n",
    "    \n",
    "    return a\n",
    "\n",
    "\n",
    "#use age, owner_level,sex,fans\n",
    "udf_func_age = udf(lambda x: regex_filter(x)[3],returnType=IntegerType())\n",
    "udf_func_owner_level = udf(lambda x: regex_filter(x)[6],returnType=IntegerType())\n",
    "udf_func_sex = udf(lambda x: regex_filter(x)[4],returnType=StringType())\n",
    "udf_func_fans = udf(lambda x: regex_filter(x)[7],returnType=IntegerType())\n",
    "udf_func_cateid = udf(lambda x: regex_filter(x)[2],returnType=StringType())\n",
    "udf_func_childid = udf(lambda x: regex_filter(x)[8],returnType=StringType())\n",
    "udf_func_tagid = udf(lambda x: regex_filter(x)[11],returnType=StringType())\n",
    "udf_func_constellation = udf(lambda x: regex_filter(x)[12],returnType=StringType())\n",
    "\n",
    "df_item = df_item.withColumn(\"item_age\",udf_func_age(df_item[\"room_feature\"])).\\\n",
    "withColumn(\"owner_level\",udf_func_owner_level(df_item[\"room_feature\"])).\\\n",
    "withColumn(\"item_sex\",udf_func_sex(df_item[\"room_feature\"])).\\\n",
    "withColumn(\"fans\",udf_func_fans(df_item[\"room_feature\"])).\\\n",
    "withColumn(\"cate_id\",udf_func_cateid(df_item[\"room_feature\"])).\\\n",
    "withColumn(\"child_id\",udf_func_childid(df_item[\"room_feature\"])).\\\n",
    "withColumn(\"tag_id\",udf_func_tagid(df_item[\"room_feature\"])).\\\n",
    "withColumn(\"constellation\",udf_func_constellation(df_item[\"room_feature\"]))\n",
    "\n",
    "df_item = df_item.fillna(0)"
   ]
  },
  {
   "cell_type": "code",
   "execution_count": 24,
   "metadata": {},
   "outputs": [
    {
     "data": {
      "application/vnd.jupyter.widget-view+json": {
       "model_id": "ea53bea47535450a99b27d151ca51f82",
       "version_major": 2,
       "version_minor": 0
      },
      "text/plain": [
       "VBox()"
      ]
     },
     "metadata": {},
     "output_type": "display_data"
    },
    {
     "data": {
      "application/vnd.jupyter.widget-view+json": {
       "model_id": "",
       "version_major": 2,
       "version_minor": 0
      },
      "text/plain": [
       "FloatProgress(value=0.0, bar_style='info', description='Progress:', layout=Layout(height='25px', width='50%'),…"
      ]
     },
     "metadata": {},
     "output_type": "display_data"
    }
   ],
   "source": [
    "#join result\n",
    "\n",
    "columns_to_drop = ['room_feature']\n",
    "df_item_res = df_item.drop(*columns_to_drop)"
   ]
  },
  {
   "cell_type": "code",
   "execution_count": 25,
   "metadata": {},
   "outputs": [
    {
     "data": {
      "application/vnd.jupyter.widget-view+json": {
       "model_id": "f4da68174a1c4a0e84bd46869bc13c39",
       "version_major": 2,
       "version_minor": 0
      },
      "text/plain": [
       "VBox()"
      ]
     },
     "metadata": {},
     "output_type": "display_data"
    },
    {
     "data": {
      "application/vnd.jupyter.widget-view+json": {
       "model_id": "",
       "version_major": 2,
       "version_minor": 0
      },
      "text/plain": [
       "FloatProgress(value=0.0, bar_style='info', description='Progress:', layout=Layout(height='25px', width='50%'),…"
      ]
     },
     "metadata": {},
     "output_type": "display_data"
    },
    {
     "name": "stdout",
     "output_type": "stream",
     "text": [
      "root\n",
      " |-- room_id: string (nullable = true)\n",
      " |-- anchor_level: string (nullable = true)\n",
      " |-- anchor_score: string (nullable = true)\n",
      " |-- is_top200_anchor: string (nullable = true)\n",
      " |-- room_click_num_1_day: string (nullable = true)\n",
      " |-- room_click_num_7_day: string (nullable = true)\n",
      " |-- room_click_num_15_day: string (nullable = true)\n",
      " |-- room_ctr_1_day: string (nullable = true)\n",
      " |-- room_ctr_7_day: string (nullable = true)\n",
      " |-- room_ctr_15_day: string (nullable = true)\n",
      " |-- i_hot_mon: string (nullable = true)\n",
      " |-- i_hot_fri: string (nullable = true)\n",
      " |-- i_hot_weekend: string (nullable = true)\n",
      " |-- i_hot_weekday: string (nullable = true)\n",
      " |-- i_ctr_mon: string (nullable = true)\n",
      " |-- i_ctr_fri: string (nullable = true)\n",
      " |-- i_ctr_weekend: string (nullable = true)\n",
      " |-- i_ctr_weekday: string (nullable = true)\n",
      " |-- room_period_favor_30d: string (nullable = true)\n",
      " |-- guess_cnt_1d: string (nullable = true)\n",
      " |-- guess_cnt_7d: string (nullable = true)\n",
      " |-- guess_cnt_15d: string (nullable = true)\n",
      " |-- raffle_cnt_1d: string (nullable = true)\n",
      " |-- raffle_cnt_7d: string (nullable = true)\n",
      " |-- raffle_cnt_15d: string (nullable = true)\n",
      " |-- room_watch_newmbr_cnt_30d: string (nullable = true)\n",
      " |-- room_effwatch_mbr_ratio_30d: string (nullable = true)\n",
      " |-- room_follow_mbr_ratio_30d: string (nullable = true)\n",
      " |-- room_click_repeat_uids_1d: string (nullable = true)\n",
      " |-- room_click_repeat_uids_7d: string (nullable = true)\n",
      " |-- room_click_repeat_uids_15d: string (nullable = true)\n",
      " |-- click_repeat_avg_nums_15d: string (nullable = true)\n",
      " |-- room_repeat_uid_rate_15d: string (nullable = true)\n",
      " |-- item_age: integer (nullable = true)\n",
      " |-- owner_level: integer (nullable = true)\n",
      " |-- item_sex: string (nullable = true)\n",
      " |-- fans: integer (nullable = true)\n",
      " |-- cate_id: string (nullable = true)\n",
      " |-- child_id: string (nullable = true)\n",
      " |-- tag_id: string (nullable = true)\n",
      " |-- constellation: string (nullable = true)"
     ]
    }
   ],
   "source": [
    "df_item_res.printSchema()"
   ]
  },
  {
   "cell_type": "markdown",
   "metadata": {},
   "source": [
    "# process user"
   ]
  },
  {
   "cell_type": "code",
   "execution_count": 26,
   "metadata": {},
   "outputs": [
    {
     "data": {
      "application/vnd.jupyter.widget-view+json": {
       "model_id": "0f827bbfac264df991bfdf861b40bb9e",
       "version_major": 2,
       "version_minor": 0
      },
      "text/plain": [
       "VBox()"
      ]
     },
     "metadata": {},
     "output_type": "display_data"
    },
    {
     "data": {
      "application/vnd.jupyter.widget-view+json": {
       "model_id": "",
       "version_major": 2,
       "version_minor": 0
      },
      "text/plain": [
       "FloatProgress(value=0.0, bar_style='info', description='Progress:', layout=Layout(height='25px', width='50%'),…"
      ]
     },
     "metadata": {},
     "output_type": "display_data"
    }
   ],
   "source": [
    "#join result\n",
    "#need to do embedding: uid/src/province/city/brand\n",
    "#df_user_res = df_user.select(['uid','own_room','email_status','phone_status','sex','province'\\\n",
    "#                             'city','brand','model','active','level','days'])"
   ]
  },
  {
   "cell_type": "markdown",
   "metadata": {},
   "source": [
    "# join results "
   ]
  },
  {
   "cell_type": "code",
   "execution_count": 27,
   "metadata": {},
   "outputs": [
    {
     "data": {
      "application/vnd.jupyter.widget-view+json": {
       "model_id": "57770db7ac2c422ebc05f0d4b04c2eca",
       "version_major": 2,
       "version_minor": 0
      },
      "text/plain": [
       "VBox()"
      ]
     },
     "metadata": {},
     "output_type": "display_data"
    },
    {
     "data": {
      "application/vnd.jupyter.widget-view+json": {
       "model_id": "",
       "version_major": 2,
       "version_minor": 0
      },
      "text/plain": [
       "FloatProgress(value=0.0, bar_style='info', description='Progress:', layout=Layout(height='25px', width='50%'),…"
      ]
     },
     "metadata": {},
     "output_type": "display_data"
    }
   ],
   "source": [
    "#join result\n",
    "#全量\n",
    "\n",
    "df_weight_item = df_item_res.join(df_res3.select([\"uid\",\"room_id\",\"cvr_label\",\"ctr_label\"]), on=\"room_id\", how=\"right\")\n",
    "df_res_all = df_weight_item.join(df_user,on='uid',how='left')"
   ]
  },
  {
   "cell_type": "code",
   "execution_count": 28,
   "metadata": {},
   "outputs": [
    {
     "data": {
      "application/vnd.jupyter.widget-view+json": {
       "model_id": "6c262107b8dd47848dc2f45b86058f21",
       "version_major": 2,
       "version_minor": 0
      },
      "text/plain": [
       "VBox()"
      ]
     },
     "metadata": {},
     "output_type": "display_data"
    },
    {
     "data": {
      "application/vnd.jupyter.widget-view+json": {
       "model_id": "",
       "version_major": 2,
       "version_minor": 0
      },
      "text/plain": [
       "FloatProgress(value=0.0, bar_style='info', description='Progress:', layout=Layout(height='25px', width='50%'),…"
      ]
     },
     "metadata": {},
     "output_type": "display_data"
    }
   ],
   "source": [
    "#join result\n",
    "#采样\n",
    "\n",
    "df_weight_item_sample = df_item_res.join(train_final.select([\"uid\",\"room_id\",\"cvr_label\",\"ctr_label\"]), on=\"room_id\", how=\"right\")\n",
    "df_res_all_sample = df_weight_item_sample.join(df_user,on='uid',how='left')"
   ]
  },
  {
   "cell_type": "markdown",
   "metadata": {},
   "source": [
    "# save results "
   ]
  },
  {
   "cell_type": "code",
   "execution_count": 29,
   "metadata": {},
   "outputs": [
    {
     "data": {
      "application/vnd.jupyter.widget-view+json": {
       "model_id": "47e7ae886c4d4775ab5d23f4c1ce4059",
       "version_major": 2,
       "version_minor": 0
      },
      "text/plain": [
       "VBox()"
      ]
     },
     "metadata": {},
     "output_type": "display_data"
    },
    {
     "data": {
      "application/vnd.jupyter.widget-view+json": {
       "model_id": "",
       "version_major": 2,
       "version_minor": 0
      },
      "text/plain": [
       "FloatProgress(value=0.0, bar_style='info', description='Progress:', layout=Layout(height='25px', width='50%'),…"
      ]
     },
     "metadata": {},
     "output_type": "display_data"
    },
    {
     "name": "stdout",
     "output_type": "stream",
     "text": [
      "It take 12.53 mimutes to finish"
     ]
    }
   ],
   "source": [
    "#save results\n",
    "#df_train, df_test = df_res_all.randomSplit([0.9, 0.1])\n",
    "Timer1 = time.time()\n",
    "\n",
    "save_name = 's3://douyu-datalab/train_{}_gdate0207_full.csv'.format(date)\n",
    "\n",
    "df_res_all.write.format('csv').\\\n",
    "    option('header', True).mode('overwrite').option('sep', '\\t').\\\n",
    "    save(save_name)\n",
    "\n",
    "print(\"It take {:.2f} mimutes to finish\".format((time.time()-Timer1)/60))"
   ]
  },
  {
   "cell_type": "code",
   "execution_count": 30,
   "metadata": {},
   "outputs": [
    {
     "data": {
      "application/vnd.jupyter.widget-view+json": {
       "model_id": "7c2881c500e24a18a494eda5841ae322",
       "version_major": 2,
       "version_minor": 0
      },
      "text/plain": [
       "VBox()"
      ]
     },
     "metadata": {},
     "output_type": "display_data"
    },
    {
     "data": {
      "application/vnd.jupyter.widget-view+json": {
       "model_id": "",
       "version_major": 2,
       "version_minor": 0
      },
      "text/plain": [
       "FloatProgress(value=0.0, bar_style='info', description='Progress:', layout=Layout(height='25px', width='50%'),…"
      ]
     },
     "metadata": {},
     "output_type": "display_data"
    },
    {
     "name": "stdout",
     "output_type": "stream",
     "text": [
      "It take 8.64 mimutes to finish"
     ]
    }
   ],
   "source": [
    "#save results\n",
    "#df_train, df_test = df_res_all.randomSplit([0.9, 0.1])\n",
    "\n",
    "Timer1 = time.time()\n",
    "\n",
    "save_name = 's3://douyu-datalab/train_{}_gdate0207_sample.csv'.format(date)\n",
    "\n",
    "df_res_all_sample.write.format('csv').\\\n",
    "    option('header', True).mode('overwrite').option('sep', '\\t').\\\n",
    "    save(save_name)\n",
    "\n",
    "print(\"It take {:.2f} mimutes to finish\".format((time.time()-Timer1)/60))"
   ]
  },
  {
   "cell_type": "code",
   "execution_count": null,
   "metadata": {},
   "outputs": [],
   "source": []
  }
 ],
 "metadata": {
  "kernelspec": {
   "display_name": "PySpark",
   "language": "",
   "name": "pysparkkernel"
  },
  "language_info": {
   "codemirror_mode": {
    "name": "python",
    "version": 3
   },
   "mimetype": "text/x-python",
   "name": "pyspark",
   "pygments_lexer": "python3"
  }
 },
 "nbformat": 4,
 "nbformat_minor": 4
}
