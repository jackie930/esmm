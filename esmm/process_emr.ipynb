{
 "cells": [
  {
   "cell_type": "code",
   "execution_count": 1,
   "metadata": {},
   "outputs": [
    {
     "data": {
      "application/vnd.jupyter.widget-view+json": {
       "model_id": "714cad1bb2104ecfb928eaa3dec9a137",
       "version_major": 2,
       "version_minor": 0
      },
      "text/plain": [
       "VBox()"
      ]
     },
     "metadata": {},
     "output_type": "display_data"
    },
    {
     "name": "stdout",
     "output_type": "stream",
     "text": [
      "Starting Spark application\n"
     ]
    },
    {
     "data": {
      "text/html": [
       "<table>\n",
       "<tr><th>ID</th><th>YARN Application ID</th><th>Kind</th><th>State</th><th>Spark UI</th><th>Driver log</th><th>Current session?</th></tr><tr><td>3</td><td>application_1610938585457_0004</td><td>pyspark</td><td>idle</td><td><a target=\"_blank\" href=\"http://ip-172-31-33-158.us-east-2.compute.internal:20888/proxy/application_1610938585457_0004/\">Link</a></td><td><a target=\"_blank\" href=\"http://ip-172-31-46-24.us-east-2.compute.internal:8042/node/containerlogs/container_1610938585457_0004_01_000001/livy\">Link</a></td><td>✔</td></tr></table>"
      ],
      "text/plain": [
       "<IPython.core.display.HTML object>"
      ]
     },
     "metadata": {},
     "output_type": "display_data"
    },
    {
     "data": {
      "application/vnd.jupyter.widget-view+json": {
       "model_id": "",
       "version_major": 2,
       "version_minor": 0
      },
      "text/plain": [
       "FloatProgress(value=0.0, bar_style='info', description='Progress:', layout=Layout(height='25px', width='50%'),…"
      ]
     },
     "metadata": {},
     "output_type": "display_data"
    },
    {
     "name": "stdout",
     "output_type": "stream",
     "text": [
      "SparkSession available as 'spark'.\n"
     ]
    },
    {
     "data": {
      "application/vnd.jupyter.widget-view+json": {
       "model_id": "",
       "version_major": 2,
       "version_minor": 0
      },
      "text/plain": [
       "FloatProgress(value=0.0, bar_style='info', description='Progress:', layout=Layout(height='25px', width='50%'),…"
      ]
     },
     "metadata": {},
     "output_type": "display_data"
    }
   ],
   "source": [
    "import time\n",
    "from pyspark import SparkContext, SparkConf\n",
    "from pyspark.sql import SparkSession, Window\n",
    "from pyspark.ml.feature import OneHotEncoder, StringIndexer\n",
    "from pyspark.sql.types import StructType, StructField, StringType, IntegerType\n",
    "from pyspark.sql.functions import to_timestamp, to_date, lit, sort_array, collect_list, col, udf\n",
    "import pyspark.sql.functions as f\n",
    "import json\n",
    "from pyspark.sql.functions import udf\n",
    "from pyspark.sql.functions import unix_timestamp, from_unixtime\n",
    "from pyspark.sql.types import DateType\n",
    "spark.conf.set(\"spark.sql.session.timeZone\", \"UTC+08:00\")"
   ]
  },
  {
   "cell_type": "markdown",
   "metadata": {},
   "source": [
    "# load data"
   ]
  },
  {
   "cell_type": "code",
   "execution_count": 2,
   "metadata": {},
   "outputs": [
    {
     "data": {
      "application/vnd.jupyter.widget-view+json": {
       "model_id": "37541ba218ef47eb99c8fe46f17a16c0",
       "version_major": 2,
       "version_minor": 0
      },
      "text/plain": [
       "VBox()"
      ]
     },
     "metadata": {},
     "output_type": "display_data"
    },
    {
     "data": {
      "application/vnd.jupyter.widget-view+json": {
       "model_id": "",
       "version_major": 2,
       "version_minor": 0
      },
      "text/plain": [
       "FloatProgress(value=0.0, bar_style='info', description='Progress:', layout=Layout(height='25px', width='50%'),…"
      ]
     },
     "metadata": {},
     "output_type": "display_data"
    }
   ],
   "source": [
    "Timer1 = time.time()\n",
    "df_item = spark.read.format('csv').\\\n",
    "    options(header='true', inferSchema='true', encoding='utf8', sep='\\t').\\\n",
    "    load('s3://douyu-datalab/tmp_recom_item_feature_1d_20201225.csv')\n",
    "#fillna\n",
    "df_item = df_item.fillna(0)\n"
   ]
  },
  {
   "cell_type": "code",
   "execution_count": 3,
   "metadata": {},
   "outputs": [
    {
     "data": {
      "application/vnd.jupyter.widget-view+json": {
       "model_id": "d6751bc1d61149bfa66a02d1564909b0",
       "version_major": 2,
       "version_minor": 0
      },
      "text/plain": [
       "VBox()"
      ]
     },
     "metadata": {},
     "output_type": "display_data"
    },
    {
     "data": {
      "application/vnd.jupyter.widget-view+json": {
       "model_id": "",
       "version_major": 2,
       "version_minor": 0
      },
      "text/plain": [
       "FloatProgress(value=0.0, bar_style='info', description='Progress:', layout=Layout(height='25px', width='50%'),…"
      ]
     },
     "metadata": {},
     "output_type": "display_data"
    }
   ],
   "source": [
    "df_user = spark.read.format('csv').\\\n",
    "    options(header='true', inferSchema='true', encoding='utf8', sep='\\t').\\\n",
    "    load('s3://douyu-datalab/tmp_recom_user_feature_1d_20201225.csv')"
   ]
  },
  {
   "cell_type": "code",
   "execution_count": 4,
   "metadata": {},
   "outputs": [
    {
     "data": {
      "application/vnd.jupyter.widget-view+json": {
       "model_id": "e93b62ebb4af49ed840a36ecc5378284",
       "version_major": 2,
       "version_minor": 0
      },
      "text/plain": [
       "VBox()"
      ]
     },
     "metadata": {},
     "output_type": "display_data"
    },
    {
     "data": {
      "application/vnd.jupyter.widget-view+json": {
       "model_id": "",
       "version_major": 2,
       "version_minor": 0
      },
      "text/plain": [
       "FloatProgress(value=0.0, bar_style='info', description='Progress:', layout=Layout(height='25px', width='50%'),…"
      ]
     },
     "metadata": {},
     "output_type": "display_data"
    }
   ],
   "source": [
    "# uid: \n",
    "# room_id: \n",
    "# watch_time: (ms)\n",
    "# watch_cnt: click times per day\n",
    "df_weight = spark.read.format('csv').\\\n",
    "    options(header='true', inferSchema='true', encoding='utf8', sep='\\t').\\\n",
    "    load('s3://douyu-datalab/tmp_recom_weight_data_1d_20201225.csv')\n"
   ]
  },
  {
   "cell_type": "code",
   "execution_count": 5,
   "metadata": {},
   "outputs": [
    {
     "data": {
      "application/vnd.jupyter.widget-view+json": {
       "model_id": "5ca8e543a81f43959373937b4bed2b64",
       "version_major": 2,
       "version_minor": 0
      },
      "text/plain": [
       "VBox()"
      ]
     },
     "metadata": {},
     "output_type": "display_data"
    },
    {
     "data": {
      "application/vnd.jupyter.widget-view+json": {
       "model_id": "",
       "version_major": 2,
       "version_minor": 0
      },
      "text/plain": [
       "FloatProgress(value=0.0, bar_style='info', description='Progress:', layout=Layout(height='25px', width='50%'),…"
      ]
     },
     "metadata": {},
     "output_type": "display_data"
    }
   ],
   "source": [
    "# uid: \n",
    "# room_id: \n",
    "# action_code: show_recommend|click_recommend\n",
    "# user_pos: position in push list(after sort?)\n",
    "# ct_pt: platform(ios/android)\n",
    "# src: recall source\n",
    "df_action_code = spark.read.format('csv').\\\n",
    "    options(header='true', inferSchema='true', encoding='utf8', sep='\\t').\\\n",
    "    load('s3://douyu-datalab/tmp_recom_action_code_1d_20201225.csv')"
   ]
  },
  {
   "cell_type": "markdown",
   "metadata": {},
   "source": [
    "# process label"
   ]
  },
  {
   "cell_type": "code",
   "execution_count": 6,
   "metadata": {},
   "outputs": [
    {
     "data": {
      "application/vnd.jupyter.widget-view+json": {
       "model_id": "fc43a17b3f3443d48121f89fba3e123d",
       "version_major": 2,
       "version_minor": 0
      },
      "text/plain": [
       "VBox()"
      ]
     },
     "metadata": {},
     "output_type": "display_data"
    },
    {
     "data": {
      "application/vnd.jupyter.widget-view+json": {
       "model_id": "",
       "version_major": 2,
       "version_minor": 0
      },
      "text/plain": [
       "FloatProgress(value=0.0, bar_style='info', description='Progress:', layout=Layout(height='25px', width='50%'),…"
      ]
     },
     "metadata": {},
     "output_type": "display_data"
    },
    {
     "name": "stdout",
     "output_type": "stream",
     "text": [
      "+--------------------+--------------------+-----------+---------+\n",
      "|                 uid|             room_id| watch_time|watch_cnt|\n",
      "+--------------------+--------------------+-----------+---------+\n",
      "|d41d8cd98f00b204e...|5a6caffa78e4b35e7...|  237429069|      681|\n",
      "|d41d8cd98f00b204e...|1831788bc34373afc...|      35561|        3|\n",
      "|d41d8cd98f00b204e...|372d0439bee1dcd7f...|    6851946|        2|\n",
      "|d41d8cd98f00b204e...|61400900a16c0e3c9...|    2999402|        1|\n",
      "|d41d8cd98f00b204e...|70c72246f05283b61...|    1529807|        5|\n",
      "|d41d8cd98f00b204e...|f61846e56bf93f732...|      19946|        3|\n",
      "|d41d8cd98f00b204e...|e36ed67ab14674311...|     249368|       24|\n",
      "|d41d8cd98f00b204e...|3964989eb0b40a372...|52330972945|   285569|\n",
      "|d41d8cd98f00b204e...|3efc81de877967a7a...|      11565|        4|\n",
      "|d41d8cd98f00b204e...|67e31581af871253b...|    1472517|       25|\n",
      "|d41d8cd98f00b204e...|cb363709e9f4adfab...|   39286860|       11|\n",
      "|d41d8cd98f00b204e...|e748c45cceb1ad8e5...|     725005|        3|\n",
      "|d41d8cd98f00b204e...|b3f6eea362a126d21...|        664|        1|\n",
      "|d41d8cd98f00b204e...|c3d2cd50e7010771b...|      88823|        4|\n",
      "|d41d8cd98f00b204e...|bb30af827c6d2bb62...|      21990|        4|\n",
      "|d41d8cd98f00b204e...|263a04413ec93658f...|   17215244|     1062|\n",
      "|d41d8cd98f00b204e...|5f2ab57c477ac09a1...|       9302|        1|\n",
      "|d41d8cd98f00b204e...|3e5bd8e297aec7ddc...|     121775|        2|\n",
      "|d41d8cd98f00b204e...|a5001fb59f17b12a5...|      19906|        6|\n",
      "|d41d8cd98f00b204e...|a490efc4e67f6e4e2...|     180926|        6|\n",
      "+--------------------+--------------------+-----------+---------+\n",
      "only showing top 20 rows"
     ]
    }
   ],
   "source": [
    "df_weight.show()"
   ]
  },
  {
   "cell_type": "code",
   "execution_count": 7,
   "metadata": {},
   "outputs": [
    {
     "data": {
      "application/vnd.jupyter.widget-view+json": {
       "model_id": "77497e003e7e4541a609bdd2d11f4275",
       "version_major": 2,
       "version_minor": 0
      },
      "text/plain": [
       "VBox()"
      ]
     },
     "metadata": {},
     "output_type": "display_data"
    },
    {
     "data": {
      "application/vnd.jupyter.widget-view+json": {
       "model_id": "",
       "version_major": 2,
       "version_minor": 0
      },
      "text/plain": [
       "FloatProgress(value=0.0, bar_style='info', description='Progress:', layout=Layout(height='25px', width='50%'),…"
      ]
     },
     "metadata": {},
     "output_type": "display_data"
    },
    {
     "name": "stdout",
     "output_type": "stream",
     "text": [
      "+-------------+--------------------+--------------------+--------------------+--------+-------+----+\n",
      "|     dateline|                 uid|             room_id|         action_code|user_pos|  ct_pt| src|\n",
      "+-------------+--------------------+--------------------+--------------------+--------+-------+----+\n",
      "|1608552932348|5a0d2e6f67148a4bd...|a880f447e08c316ea...|show_recommend_re...|       2|android|9810|\n",
      "|1608520873257|3a0ebc104c8c6faf9...|38b3eff8baf566274...|show_recommend_re...|       1|    ios|9831|\n",
      "|1608562029075|7f894553142e46cf3...|ae8b5aa26a3ae3161...|show_recommend_re...|       3|    ios|1005|\n",
      "|1608565452016|8d9fc5944d88166c1...|6d70d6bd21e71385f...|show_recommend_re...|      59|android|   0|\n",
      "|1608565345690|8d9fc5944d88166c1...|3ed304a448828ee2c...|show_recommend_re...|     172|android|1004|\n",
      "|1608518783435|b57629c6aaffeaed1...|ae9fb56eaa2096c74...|show_recommend_re...|       3|android|1005|\n",
      "|1608531578847|ac6ddf1e3c74ca94c...|89209f444391e9c72...|click_recommend_r...|       2|    ios|  55|\n",
      "|1608484996710|69c8bd124b713e8b9...|0a18cf521deddea8c...|show_recommend_re...|     114|    ios|1004|\n",
      "|1608484946325|69c8bd124b713e8b9...|36001f4939e329faf...|show_recommend_re...|      56|    ios|1002|\n",
      "|1608484992830|69c8bd124b713e8b9...|cc95bb7fffbc744ac...|show_recommend_re...|     134|    ios|1004|\n",
      "|1608556909540|be25a3298b6fda1f5...|4c6bbf1d3567350f3...|show_recommend_re...|       4|    ios|  55|\n",
      "|1608508490317|50e04f6ed1c580150...|2b6de282d7267dd6b...|show_recommend_re...|       9|    ios|1005|\n",
      "|1608561183217|d42ff1954b1212c10...|4adf96c36d79f3707...|show_recommend_re...|       2|    ios|  55|\n",
      "|1608528699744|d24db2834406ca5b5...|933ece81cf28cf00f...|show_recommend_re...|      54|android|1002|\n",
      "|1608528535273|d24db2834406ca5b5...|1e01827a1808d7313...|click_recommend_r...|      12|android|  55|\n",
      "|1608551037647|d24db2834406ca5b5...|dc1155a443d54381f...|show_recommend_re...|       5|android|9999|\n",
      "|1608515723549|d24db2834406ca5b5...|c881b020de44474e4...|show_recommend_re...|      30|android|  55|\n",
      "|1608545451028|613253dc62bea86cb...|21f2fd65def01475b...|show_recommend_re...|       6|android|  48|\n",
      "|1608531855684|613253dc62bea86cb...|040655a94844adaa0...|show_recommend_re...|       3|android|  48|\n",
      "|1608543920200|ff4bec9ccfb762d4b...|f461d3d27380658ea...|click_recommend_r...|       9|    ios|  55|\n",
      "+-------------+--------------------+--------------------+--------------------+--------+-------+----+\n",
      "only showing top 20 rows"
     ]
    }
   ],
   "source": [
    "df_action_code.show()"
   ]
  },
  {
   "cell_type": "code",
   "execution_count": 8,
   "metadata": {},
   "outputs": [
    {
     "data": {
      "application/vnd.jupyter.widget-view+json": {
       "model_id": "3a867ceacf35496b9e52727699721b61",
       "version_major": 2,
       "version_minor": 0
      },
      "text/plain": [
       "VBox()"
      ]
     },
     "metadata": {},
     "output_type": "display_data"
    },
    {
     "data": {
      "application/vnd.jupyter.widget-view+json": {
       "model_id": "",
       "version_major": 2,
       "version_minor": 0
      },
      "text/plain": [
       "FloatProgress(value=0.0, bar_style='info', description='Progress:', layout=Layout(height='25px', width='50%'),…"
      ]
     },
     "metadata": {},
     "output_type": "display_data"
    }
   ],
   "source": [
    "#convert to datetime\n",
    "df_action_code = df_action_code.withColumn('datetamp', (df_action_code.dateline/1e3).cast(IntegerType()))\n",
    "df_action_code = df_action_code.withColumn('datetamp2', from_unixtime(df_action_code.datetamp))"
   ]
  },
  {
   "cell_type": "code",
   "execution_count": 9,
   "metadata": {},
   "outputs": [
    {
     "data": {
      "application/vnd.jupyter.widget-view+json": {
       "model_id": "1fa5aeea98924da4a2a90791c3c8783b",
       "version_major": 2,
       "version_minor": 0
      },
      "text/plain": [
       "VBox()"
      ]
     },
     "metadata": {},
     "output_type": "display_data"
    },
    {
     "data": {
      "application/vnd.jupyter.widget-view+json": {
       "model_id": "",
       "version_major": 2,
       "version_minor": 0
      },
      "text/plain": [
       "FloatProgress(value=0.0, bar_style='info', description='Progress:', layout=Layout(height='25px', width='50%'),…"
      ]
     },
     "metadata": {},
     "output_type": "display_data"
    }
   ],
   "source": [
    "def convert_label(x):\n",
    "    if x=='click_recommend_recom_hot_room':\n",
    "        return 1\n",
    "    else:\n",
    "        return 0\n",
    "\n",
    "#use age, owner_level,sex,fans\n",
    "udf_func_convert = udf(lambda x: convert_label(x),returnType=IntegerType())\n",
    "df_action_code = df_action_code.withColumn(\"label\",udf_func_convert(df_action_code[\"action_code\"]))\n",
    "#group by userid, roomid\n",
    "#此处将曝光未点击的记录，直接当成曝光点击的前置部分？？？如果两者时间差别比较大呢？\n",
    "df_action_code_agg = df_action_code.groupby(df_action_code.uid,df_action_code.room_id).\\\n",
    "agg(f.max('label').alias(\"label_click\"))\n",
    "#left join watch to filter conversion\n",
    "df_res = df_action_code_agg.join(df_weight,on=[\"room_id\",\"uid\"],how='left')\n",
    "#convert watchtime to second\n",
    "df_res2 = df_res.withColumn(\"time_min\", df_res[\"watch_time\"]/60000)\n",
    "\n",
    "df_res2 = df_res2.fillna(0)"
   ]
  },
  {
   "cell_type": "code",
   "execution_count": 23,
   "metadata": {},
   "outputs": [
    {
     "data": {
      "application/vnd.jupyter.widget-view+json": {
       "model_id": "c9e5ec08428049e1afe3853c56a0c129",
       "version_major": 2,
       "version_minor": 0
      },
      "text/plain": [
       "VBox()"
      ]
     },
     "metadata": {},
     "output_type": "display_data"
    },
    {
     "data": {
      "application/vnd.jupyter.widget-view+json": {
       "model_id": "",
       "version_major": 2,
       "version_minor": 0
      },
      "text/plain": [
       "FloatProgress(value=0.0, bar_style='info', description='Progress:', layout=Layout(height='25px', width='50%'),…"
      ]
     },
     "metadata": {},
     "output_type": "display_data"
    }
   ],
   "source": [
    "def convert_cvr_label(label_click,time_min):\n",
    "    if int(label_click)==1 and float(time_min)>5:\n",
    "        return 1\n",
    "    else:\n",
    "        return 0\n",
    "\n",
    "    \n",
    "udf_func_convert = udf(lambda x,y: convert_cvr_label(x,y),returnType=IntegerType())\n",
    "df_res2 = df_res2.withColumn(\"cvr_label\",udf_func_convert(df_res2[\"label_click\"],df_res2[\"time_min\"]))"
   ]
  },
  {
   "cell_type": "code",
   "execution_count": 24,
   "metadata": {},
   "outputs": [
    {
     "data": {
      "application/vnd.jupyter.widget-view+json": {
       "model_id": "8557c2cab52643fe87a35180ca39e8f1",
       "version_major": 2,
       "version_minor": 0
      },
      "text/plain": [
       "VBox()"
      ]
     },
     "metadata": {},
     "output_type": "display_data"
    },
    {
     "data": {
      "application/vnd.jupyter.widget-view+json": {
       "model_id": "",
       "version_major": 2,
       "version_minor": 0
      },
      "text/plain": [
       "FloatProgress(value=0.0, bar_style='info', description='Progress:', layout=Layout(height='25px', width='50%'),…"
      ]
     },
     "metadata": {},
     "output_type": "display_data"
    }
   ],
   "source": [
    "def convert_ctr_label(x,y):\n",
    "    if int(x)==1 and float(y)>2:\n",
    "        return 1\n",
    "    else:\n",
    "        return 0\n",
    "\n",
    "udf_func_convert = udf(lambda x,y: convert_ctr_label(x,y),returnType=IntegerType())\n",
    "df_res2 = df_res2.withColumn(\"ctr_label\",udf_func_convert(df_res2[\"label_click\"],df_res2[\"time_min\"]))"
   ]
  },
  {
   "cell_type": "code",
   "execution_count": 25,
   "metadata": {},
   "outputs": [
    {
     "data": {
      "application/vnd.jupyter.widget-view+json": {
       "model_id": "196c1c7c824f47719fcec2acc376ab76",
       "version_major": 2,
       "version_minor": 0
      },
      "text/plain": [
       "VBox()"
      ]
     },
     "metadata": {},
     "output_type": "display_data"
    },
    {
     "data": {
      "application/vnd.jupyter.widget-view+json": {
       "model_id": "",
       "version_major": 2,
       "version_minor": 0
      },
      "text/plain": [
       "FloatProgress(value=0.0, bar_style='info', description='Progress:', layout=Layout(height='25px', width='50%'),…"
      ]
     },
     "metadata": {},
     "output_type": "display_data"
    },
    {
     "name": "stdout",
     "output_type": "stream",
     "text": [
      "+--------------------+--------------------+-----------+----------+---------+--------------------+---------+---------+\n",
      "|             room_id|                 uid|label_click|watch_time|watch_cnt|            time_min|cvr_label|ctr_label|\n",
      "+--------------------+--------------------+-----------+----------+---------+--------------------+---------+---------+\n",
      "|b56a18e0eacdf51aa...|000025bbc8e3fd2a3...|          0|         0|        0|                 0.0|        0|        0|\n",
      "|f3475ed497caeab39...|000026c67a83fa72a...|          0|         0|        0|                 0.0|        0|        0|\n",
      "|89209f444391e9c72...|000048f2d4a90b363...|          0|    611792|       10|  10.196533333333333|        0|        0|\n",
      "|5ec5fa5a5d586714f...|000069059776e2d3e...|          0|         0|        0|                 0.0|        0|        0|\n",
      "|72204d87e2fec8e0e...|000073176e737404d...|          0|      2017|        1| 0.03361666666666667|        0|        0|\n",
      "|ab38e6d41fbfd5519...|00011cf6740bf70c8...|          0|         0|        0|                 0.0|        0|        0|\n",
      "|3a04cd492e8ee96d7...|00016ceb5146a40f0...|          0|         0|        0|                 0.0|        0|        0|\n",
      "|788a583cff4dcd0f4...|000188bb7f7b7cc7c...|          0|         0|        0|                 0.0|        0|        0|\n",
      "|9d955ba9a052482e0...|0001df5741ebb80eb...|          0|         0|        0|                 0.0|        0|        0|\n",
      "|d3aa697a2f259699b...|0001f2928b472d61c...|          1|    791895|        2|            13.19825|        1|        1|\n",
      "|79cb2c1dd28715f85...|0002962709c469fca...|          0|         0|        0|                 0.0|        0|        0|\n",
      "|2e416af4d3e6063c6...|0002b29f8c1511e70...|          0|         0|        0|                 0.0|        0|        0|\n",
      "|bff752c748429a5a6...|0002ca522c5aae423...|          0|         0|        0|                 0.0|        0|        0|\n",
      "|defb7f7d24f643c91...|00030d256a57bd3d9...|          1|    300000|        5|                 5.0|        0|        1|\n",
      "|b0c10fe2cd917c512...|00038519cd0a7bdf6...|          0|         0|        0|                 0.0|        0|        0|\n",
      "|c8ae4fb87949c8377...|00038519cd0a7bdf6...|          0|         0|        0|                 0.0|        0|        0|\n",
      "|afe0a48a7b75be1bf...|0003b8856543ba6df...|          0|      2824|        1|0.047066666666666666|        0|        0|\n",
      "|7a79662012fbaac5e...|000436a19ad80b378...|          0|      2778|        2|              0.0463|        0|        0|\n",
      "|247c0fc7356c21fc7...|000471e419119798d...|          0|         0|        0|                 0.0|        0|        0|\n",
      "|37be4210dcf47fca2...|0004758d735bc24d5...|          1|      1379|        2|0.022983333333333335|        0|        0|\n",
      "+--------------------+--------------------+-----------+----------+---------+--------------------+---------+---------+\n",
      "only showing top 20 rows"
     ]
    }
   ],
   "source": [
    "df_res2.show()"
   ]
  },
  {
   "cell_type": "code",
   "execution_count": 26,
   "metadata": {},
   "outputs": [
    {
     "data": {
      "application/vnd.jupyter.widget-view+json": {
       "model_id": "2fb1a6b7ed644bc4aa34d225282778b8",
       "version_major": 2,
       "version_minor": 0
      },
      "text/plain": [
       "VBox()"
      ]
     },
     "metadata": {},
     "output_type": "display_data"
    },
    {
     "data": {
      "application/vnd.jupyter.widget-view+json": {
       "model_id": "",
       "version_major": 2,
       "version_minor": 0
      },
      "text/plain": [
       "FloatProgress(value=0.0, bar_style='info', description='Progress:', layout=Layout(height='25px', width='50%'),…"
      ]
     },
     "metadata": {},
     "output_type": "display_data"
    },
    {
     "name": "stdout",
     "output_type": "stream",
     "text": [
      "root\n",
      " |-- room_id: string (nullable = true)\n",
      " |-- uid: string (nullable = true)\n",
      " |-- label_click: integer (nullable = true)\n",
      " |-- watch_time: long (nullable = true)\n",
      " |-- watch_cnt: integer (nullable = true)\n",
      " |-- time_min: double (nullable = false)\n",
      " |-- cvr_label: integer (nullable = true)\n",
      " |-- ctr_label: integer (nullable = true)"
     ]
    }
   ],
   "source": [
    "df_res2.printSchema()"
   ]
  },
  {
   "cell_type": "markdown",
   "metadata": {},
   "source": [
    "# process item "
   ]
  },
  {
   "cell_type": "code",
   "execution_count": 27,
   "metadata": {},
   "outputs": [
    {
     "data": {
      "application/vnd.jupyter.widget-view+json": {
       "model_id": "4270ebc6ee9f4332874e1622bc78f038",
       "version_major": 2,
       "version_minor": 0
      },
      "text/plain": [
       "VBox()"
      ]
     },
     "metadata": {},
     "output_type": "display_data"
    },
    {
     "data": {
      "application/vnd.jupyter.widget-view+json": {
       "model_id": "",
       "version_major": 2,
       "version_minor": 0
      },
      "text/plain": [
       "FloatProgress(value=0.0, bar_style='info', description='Progress:', layout=Layout(height='25px', width='50%'),…"
      ]
     },
     "metadata": {},
     "output_type": "display_data"
    }
   ],
   "source": [
    "#processs item feature\n",
    "#cate_id\n",
    "#child_id \n",
    "#tag_id\n",
    "def regex_filter(x):\n",
    "    try:\n",
    "        a = list(json.loads(x).values())\n",
    "    except:\n",
    "        raise (\"exception!\")\n",
    "    \n",
    "    #return ['owner_exp','owner_uid','cate_id','age','sex','room_name',\\\n",
    "    #'owner_level','fans','child_id','cq','msgWords','tag_id','constellation']\n",
    "    \n",
    "    return a\n",
    "\n",
    "\n",
    "#use age, owner_level,sex,fans\n",
    "udf_func_age = udf(lambda x: regex_filter(x)[3],returnType=IntegerType())\n",
    "udf_func_owner_level = udf(lambda x: regex_filter(x)[6],returnType=IntegerType())\n",
    "udf_func_sex = udf(lambda x: regex_filter(x)[4],returnType=StringType())\n",
    "udf_func_fans = udf(lambda x: regex_filter(x)[7],returnType=IntegerType())\n",
    "udf_func_cateid = udf(lambda x: regex_filter(x)[2],returnType=StringType())\n",
    "udf_func_childid = udf(lambda x: regex_filter(x)[8],returnType=StringType())\n",
    "udf_func_tagid = udf(lambda x: regex_filter(x)[11],returnType=StringType())\n",
    "udf_func_constellation = udf(lambda x: regex_filter(x)[12],returnType=StringType())\n",
    "\n",
    "df_item = df_item.withColumn(\"item_age\",udf_func_age(df_item[\"room_feature\"])).\\\n",
    "withColumn(\"owner_level\",udf_func_owner_level(df_item[\"room_feature\"])).\\\n",
    "withColumn(\"item_sex\",udf_func_sex(df_item[\"room_feature\"])).\\\n",
    "withColumn(\"fans\",udf_func_fans(df_item[\"room_feature\"])).\\\n",
    "withColumn(\"cate_id\",udf_func_cateid(df_item[\"room_feature\"])).\\\n",
    "withColumn(\"child_id\",udf_func_childid(df_item[\"room_feature\"])).\\\n",
    "withColumn(\"tag_id\",udf_func_tagid(df_item[\"room_feature\"])).\\\n",
    "withColumn(\"constellation\",udf_func_constellation(df_item[\"room_feature\"]))\n",
    "\n",
    "df_item = df_item.fillna(0)"
   ]
  },
  {
   "cell_type": "code",
   "execution_count": 28,
   "metadata": {},
   "outputs": [
    {
     "data": {
      "application/vnd.jupyter.widget-view+json": {
       "model_id": "02732e5d42644924929fc72bcb4e8df4",
       "version_major": 2,
       "version_minor": 0
      },
      "text/plain": [
       "VBox()"
      ]
     },
     "metadata": {},
     "output_type": "display_data"
    },
    {
     "data": {
      "application/vnd.jupyter.widget-view+json": {
       "model_id": "",
       "version_major": 2,
       "version_minor": 0
      },
      "text/plain": [
       "FloatProgress(value=0.0, bar_style='info', description='Progress:', layout=Layout(height='25px', width='50%'),…"
      ]
     },
     "metadata": {},
     "output_type": "display_data"
    }
   ],
   "source": [
    "#join result\n",
    "\n",
    "columns_to_drop = ['room_feature']\n",
    "df_item_res = df_item.drop(*columns_to_drop)"
   ]
  },
  {
   "cell_type": "code",
   "execution_count": 29,
   "metadata": {},
   "outputs": [
    {
     "data": {
      "application/vnd.jupyter.widget-view+json": {
       "model_id": "177c5e1c9b6245aeb54a273c2a098b28",
       "version_major": 2,
       "version_minor": 0
      },
      "text/plain": [
       "VBox()"
      ]
     },
     "metadata": {},
     "output_type": "display_data"
    },
    {
     "data": {
      "application/vnd.jupyter.widget-view+json": {
       "model_id": "",
       "version_major": 2,
       "version_minor": 0
      },
      "text/plain": [
       "FloatProgress(value=0.0, bar_style='info', description='Progress:', layout=Layout(height='25px', width='50%'),…"
      ]
     },
     "metadata": {},
     "output_type": "display_data"
    },
    {
     "name": "stdout",
     "output_type": "stream",
     "text": [
      "root\n",
      " |-- room_id: string (nullable = true)\n",
      " |-- anchor_level: integer (nullable = true)\n",
      " |-- anchor_score: integer (nullable = true)\n",
      " |-- is_top200_anchor: integer (nullable = true)\n",
      " |-- room_click_num_1_day: integer (nullable = true)\n",
      " |-- room_click_num_7_day: integer (nullable = true)\n",
      " |-- room_click_num_15_day: integer (nullable = true)\n",
      " |-- room_ctr_1_day: double (nullable = false)\n",
      " |-- room_ctr_7_day: double (nullable = false)\n",
      " |-- room_ctr_15_day: double (nullable = false)\n",
      " |-- i_hot_mon: integer (nullable = true)\n",
      " |-- i_hot_fri: integer (nullable = true)\n",
      " |-- i_hot_weekend: integer (nullable = true)\n",
      " |-- i_hot_weekday: integer (nullable = true)\n",
      " |-- i_ctr_mon: double (nullable = false)\n",
      " |-- i_ctr_fri: double (nullable = false)\n",
      " |-- i_ctr_weekend: double (nullable = false)\n",
      " |-- i_ctr_weekday: double (nullable = false)\n",
      " |-- room_period_favor_30d: string (nullable = true)\n",
      " |-- guess_cnt_1d: integer (nullable = true)\n",
      " |-- guess_cnt_7d: integer (nullable = true)\n",
      " |-- guess_cnt_15d: integer (nullable = true)\n",
      " |-- raffle_cnt_1d: integer (nullable = true)\n",
      " |-- raffle_cnt_7d: integer (nullable = true)\n",
      " |-- raffle_cnt_15d: integer (nullable = true)\n",
      " |-- room_watch_newmbr_cnt_30d: integer (nullable = true)\n",
      " |-- room_effwatch_mbr_ratio_30d: double (nullable = false)\n",
      " |-- room_follow_mbr_ratio_30d: double (nullable = false)\n",
      " |-- room_click_repeat_uids_1d: integer (nullable = true)\n",
      " |-- room_click_repeat_uids_7d: integer (nullable = true)\n",
      " |-- room_click_repeat_uids_15d: integer (nullable = true)\n",
      " |-- click_repeat_avg_nums_15d: double (nullable = false)\n",
      " |-- room_repeat_uid_rate_15d: double (nullable = false)\n",
      " |-- item_age: integer (nullable = true)\n",
      " |-- owner_level: integer (nullable = true)\n",
      " |-- item_sex: string (nullable = true)\n",
      " |-- fans: integer (nullable = true)\n",
      " |-- cate_id: string (nullable = true)\n",
      " |-- child_id: string (nullable = true)\n",
      " |-- tag_id: string (nullable = true)\n",
      " |-- constellation: string (nullable = true)"
     ]
    }
   ],
   "source": [
    "df_item_res.printSchema()"
   ]
  },
  {
   "cell_type": "markdown",
   "metadata": {},
   "source": [
    "# process user"
   ]
  },
  {
   "cell_type": "code",
   "execution_count": 30,
   "metadata": {},
   "outputs": [
    {
     "data": {
      "application/vnd.jupyter.widget-view+json": {
       "model_id": "20844159a9a94643be679b7b53928e1a",
       "version_major": 2,
       "version_minor": 0
      },
      "text/plain": [
       "VBox()"
      ]
     },
     "metadata": {},
     "output_type": "display_data"
    },
    {
     "data": {
      "application/vnd.jupyter.widget-view+json": {
       "model_id": "",
       "version_major": 2,
       "version_minor": 0
      },
      "text/plain": [
       "FloatProgress(value=0.0, bar_style='info', description='Progress:', layout=Layout(height='25px', width='50%'),…"
      ]
     },
     "metadata": {},
     "output_type": "display_data"
    }
   ],
   "source": [
    "#join result\n",
    "\n",
    "df_user_res = df_user.select(['uid','phone_status','sex','province'])"
   ]
  },
  {
   "cell_type": "code",
   "execution_count": 31,
   "metadata": {},
   "outputs": [
    {
     "data": {
      "application/vnd.jupyter.widget-view+json": {
       "model_id": "55e556647a9b4837941efc5ee28e0281",
       "version_major": 2,
       "version_minor": 0
      },
      "text/plain": [
       "VBox()"
      ]
     },
     "metadata": {},
     "output_type": "display_data"
    },
    {
     "data": {
      "application/vnd.jupyter.widget-view+json": {
       "model_id": "",
       "version_major": 2,
       "version_minor": 0
      },
      "text/plain": [
       "FloatProgress(value=0.0, bar_style='info', description='Progress:', layout=Layout(height='25px', width='50%'),…"
      ]
     },
     "metadata": {},
     "output_type": "display_data"
    },
    {
     "name": "stdout",
     "output_type": "stream",
     "text": [
      "+--------------------+------------+---+--------+\n",
      "|                 uid|phone_status|sex|province|\n",
      "+--------------------+------------+---+--------+\n",
      "|99f11d010f20a896f...|           1|  1|    贵州|\n",
      "|a4c21e4414931098e...|           1|  1|    江西|\n",
      "|c7db60a3d185f6e41...|           1|  0|    江苏|\n",
      "|2cf3eafa09fe065ad...|           1|  0|    湖北|\n",
      "|ddae618dcc52d31d2...|           1|  0|    null|\n",
      "|d018b51c6fa552fb3...|           1|  0|    广东|\n",
      "|e449870f68316ccf9...|           1|  1|    河南|\n",
      "|9929519d78d9151ba...|           1|  0|  内蒙古|\n",
      "|a6f1e4f0d8c02966d...|           1|  1|    山东|\n",
      "|00b03cc7c3e1fd7a9...|           1|  0|    云南|\n",
      "|555015100a2dcc692...|           1|  1|    陕西|\n",
      "|3b33c683bfe87d365...|           1|  0|    广西|\n",
      "|1f4ca56c9ae3e4848...|           1|  0|    河北|\n",
      "|e91d5843ccad719d0...|           1|  1|    河北|\n",
      "|0525d090e1cf1753a...|           0|  0|    江苏|\n",
      "|c03861eef04571e5a...|           1|  0|    浙江|\n",
      "|3ca4b234450b18e75...|           1|  0|    江西|\n",
      "|28992ce4a681579c0...|           1|  1|    广东|\n",
      "|54e9427087e6bb09b...|           1|  0|    四川|\n",
      "|33c9bcf42e7ede237...|           1|  0|    陕西|\n",
      "+--------------------+------------+---+--------+\n",
      "only showing top 20 rows"
     ]
    }
   ],
   "source": [
    "df_user_res.show()"
   ]
  },
  {
   "cell_type": "markdown",
   "metadata": {},
   "source": [
    "# join results "
   ]
  },
  {
   "cell_type": "code",
   "execution_count": 32,
   "metadata": {},
   "outputs": [
    {
     "data": {
      "application/vnd.jupyter.widget-view+json": {
       "model_id": "a2b4456b906f4faa8328de9aed01271c",
       "version_major": 2,
       "version_minor": 0
      },
      "text/plain": [
       "VBox()"
      ]
     },
     "metadata": {},
     "output_type": "display_data"
    },
    {
     "data": {
      "application/vnd.jupyter.widget-view+json": {
       "model_id": "",
       "version_major": 2,
       "version_minor": 0
      },
      "text/plain": [
       "FloatProgress(value=0.0, bar_style='info', description='Progress:', layout=Layout(height='25px', width='50%'),…"
      ]
     },
     "metadata": {},
     "output_type": "display_data"
    }
   ],
   "source": [
    "#join result\n",
    "\n",
    "df_weight_item = df_item_res.join(df_res2.select([\"uid\",\"room_id\",\"cvr_label\",\"ctr_label\"]), on=\"room_id\", how=\"right\")\n",
    "df_res_all = df_weight_item.join(df_user_res,on='uid',how='left')\n"
   ]
  },
  {
   "cell_type": "code",
   "execution_count": 33,
   "metadata": {},
   "outputs": [
    {
     "data": {
      "application/vnd.jupyter.widget-view+json": {
       "model_id": "eb28bca30f3b4904b80bfa758a471d5a",
       "version_major": 2,
       "version_minor": 0
      },
      "text/plain": [
       "VBox()"
      ]
     },
     "metadata": {},
     "output_type": "display_data"
    },
    {
     "data": {
      "application/vnd.jupyter.widget-view+json": {
       "model_id": "",
       "version_major": 2,
       "version_minor": 0
      },
      "text/plain": [
       "FloatProgress(value=0.0, bar_style='info', description='Progress:', layout=Layout(height='25px', width='50%'),…"
      ]
     },
     "metadata": {},
     "output_type": "display_data"
    },
    {
     "name": "stdout",
     "output_type": "stream",
     "text": [
      "+--------------------+--------------------+------------+------------+----------------+--------------------+--------------------+---------------------+--------------+--------------+---------------+---------+---------+-------------+-------------+---------+---------+-------------+-------------+---------------------+------------+------------+-------------+-------------+-------------+--------------+-------------------------+---------------------------+-------------------------+-------------------------+-------------------------+--------------------------+-------------------------+------------------------+--------+-----------+--------+----+-------+--------+------+-------------+---------+---------+------------+---+--------+\n",
      "|                 uid|             room_id|anchor_level|anchor_score|is_top200_anchor|room_click_num_1_day|room_click_num_7_day|room_click_num_15_day|room_ctr_1_day|room_ctr_7_day|room_ctr_15_day|i_hot_mon|i_hot_fri|i_hot_weekend|i_hot_weekday|i_ctr_mon|i_ctr_fri|i_ctr_weekend|i_ctr_weekday|room_period_favor_30d|guess_cnt_1d|guess_cnt_7d|guess_cnt_15d|raffle_cnt_1d|raffle_cnt_7d|raffle_cnt_15d|room_watch_newmbr_cnt_30d|room_effwatch_mbr_ratio_30d|room_follow_mbr_ratio_30d|room_click_repeat_uids_1d|room_click_repeat_uids_7d|room_click_repeat_uids_15d|click_repeat_avg_nums_15d|room_repeat_uid_rate_15d|item_age|owner_level|item_sex|fans|cate_id|child_id|tag_id|constellation|cvr_label|ctr_label|phone_status|sex|province|\n",
      "+--------------------+--------------------+------------+------------+----------------+--------------------+--------------------+---------------------+--------------+--------------+---------------+---------+---------+-------------+-------------+---------+---------+-------------+-------------+---------------------+------------+------------+-------------+-------------+-------------+--------------+-------------------------+---------------------------+-------------------------+-------------------------+-------------------------+--------------------------+-------------------------+------------------------+--------+-----------+--------+----+-------+--------+------+-------------+---------+---------+------------+---+--------+\n",
      "|00081b7c691624766...|94b5b19d868885085...|          60|       44596|               0|                4004|               31118|                85895|        0.1027|        0.0955|         0.0936|   227357|   180118|       452025|       522995|   0.0839|   0.0982|       0.0868|       0.1078|                 下午|           0|           5|            5|            0|            0|             0|                   171077|                     0.2448|                   0.0015|                      686|                     3673|                      9388|        6.882403067746059|     0.38530679253026884|      28|         60|      男|   0|      9|     224|   181|       处女座|        0|        0|           0|  0|    四川|\n",
      "|00081b7c691624766...|123bc203bf13a0b02...|          93|      200738|               1|               33457|              229280|               386775|        0.1085|        0.0976|         0.0985|   821008|   883003|      2136286|      2382610|   0.0907|   0.1039|       0.1078|       0.0924|                 午夜|           0|           0|            0|            0|            2|             2|                   850885|                     0.4153|                   0.0056|                     6337|                    31736|                     47334|        6.117801157730173|     0.38878028747433263|      25|         93|      男|   0|      9|     469|   181|       天蝎座|        0|        0|           0|  0|    四川|\n",
      "|0020c302e411978bb...|19d4d07bc4c53710b...|          72|       36579|               0|                5110|               41489|                89779|        0.1317|        0.1301|           0.14|   182098|   149773|       360927|       441170|   0.1297|   0.1404|       0.1335|       0.1516|                 上午|           0|           0|            0|            3|           28|            63|                   136762|                     0.3322|                   0.0262|                      885|                     5476|                     11343|        5.885744512033853|     0.41607365563788423|      25|         72|      男|   0|      1|      56|    33|       处女座|        0|        0|           1|  1|    吉林|\n",
      "|0020c302e411978bb...|f0bc06f0e6ac71912...|          39|        9424|               0|                 697|                3193|                 4216|        0.1567|        0.1565|         0.1697|    29291|    33693|        67094|        96099|    0.159|   0.1584|       0.2435|       0.1626|                 午夜|           0|           0|            0|            0|            0|             0|                     5137|                     0.4391|                   0.0038|                      123|                      610|                       761|       3.8699080157687256|      0.4251396648044693|      23|         39|      男|   0|      1|     212|    29|       处女座|        0|        0|           1|  1|    吉林|\n",
      "|0020c302e411978bb...|cd2c4ddd4eb07e57b...|          83|       91771|               0|               33073|              293450|               659401|        0.3443|        0.3436|         0.3432|   444456|   344459|      1013514|      1042483|   0.3566|   0.2807|       0.3749|       0.3347|                 傍晚|           0|           0|            0|            2|           10|            24|                   193521|                     0.5333|                   0.0107|                     6825|                    38346|                     71355|       7.7102936024104824|      0.5733259412813961|      28|         83|      男|   0|      1|    1130|    33|       白羊座|        0|        0|           1|  1|    吉林|\n",
      "|0020c302e411978bb...|38b3eff8baf566274...|         101|      479519|               1|              155160|             1969975|              2490079|         0.233|        0.2307|         0.2384|  2129417|  2088967|      5315701|      5331020|   0.2333|   0.2179|       0.2432|       0.2592|                 凌晨|           0|           0|            0|            0|            3|             3|                   581720|                     0.5232|                   0.0069|                    19518|                   371135|                    437998|       3.8054968287526427|      0.3998809481421428|      29|        101|      男|   5|      1|      32|     1|       白羊座|        0|        0|           1|  1|    吉林|\n",
      "|0020c302e411978bb...|61dec3d2ef0e74f40...|          34|        2019|               0|                 159|                 755|                 1174|        0.1759|        0.1568|         0.1526|     5154|     4553|        13268|        11356|   0.1755|   0.1329|       0.1609|       0.1334|                 下午|           0|           0|            0|            0|            0|             0|                     1052|                     0.5925|                    0.004|                       22|                      145|                       196|        2.933673469387755|     0.31210191082802546|      22|         34|      男|   0|      1|       0|   310|       巨蟹座|        0|        0|           1|  1|    吉林|\n",
      "|0020c302e411978bb...|7fc9e2882d95275c9...|         101|      271885|               1|               42564|              553594|              1319904|        0.2079|        0.1612|         0.1708|  1364190|   970988|      2734267|      2815220|   0.1685|    0.186|       0.1596|       0.1811|                 傍晚|           9|          70|          169|            6|           33|            64|                   218539|                     0.5244|                   0.0119|                     8102|                    84276|                    144522|        7.718036008358589|      0.6047476974964328|      33|        101|      男|   0|      9|    1012|   451|       狮子座|        0|        0|           1|  1|    吉林|\n",
      "|0020c302e411978bb...|fbcc1f577db973a6c...|         101|      201921|               1|               88949|              577848|              1113514|        0.1868|         0.183|         0.1784|   967566|   800459|      2079838|      2411707|   0.1838|   0.1904|       0.1633|       0.1865|                 午夜|          10|          39|           53|            2|            3|            12|                   291750|                     0.6195|                    0.005|                    15304|                    96513|                    181515|        4.726039170316502|     0.44228262326238715|      19|        101|      男|   0|      1|    1008|   270|       天蝎座|        0|        0|           1|  1|    吉林|\n",
      "|0020c302e411978bb...|b127f26406a2a3c17...|         101|      777041|               1|              122533|             1214287|              3148562|        0.1876|        0.1876|         0.2127|  3668364|  2467409|      7807936|      7813454|   0.1976|   0.1932|       0.1973|       0.2416|                 傍晚|           0|           0|            0|            1|            3|             6|                   892489|                     0.7031|                    0.016|                    19651|                   184957|                    512526|         4.83209827403878|      0.4928636957228333|      32|        101|      男|   0|     15|       0|   473|       摩羯座|        0|        0|           1|  1|    吉林|\n",
      "|0020c302e411978bb...|1211089da678922af...|         101|      417644|               1|               94006|              578677|              1305682|        0.1441|        0.1729|         0.1844|  2217733|  1740973|      4066855|      4921409|   0.1658|   0.1769|       0.2071|       0.1861|                 晚上|           0|          77|           80|            0|           15|            29|                   450470|                     0.4228|                   0.0133|                    13283|                    91511|                    217831|        3.936873080507366|      0.3719721794843335|      25|        101|      女|   0|      9|     826|   350|       处女座|        0|        0|           1|  1|    吉林|\n",
      "|0020c302e411978bb...|c05c903e3d997adde...|         101|     1732583|               1|               65126|              428080|              1213541|        0.1244|        0.1421|         0.1834|  3908509|  2180090|     41216423|      6405077|   0.1628|   0.1945|       0.2032|       0.1713|                 凌晨|           0|           0|            0|           11|           40|            58|                   402664|                      0.552|                   0.0105|                    10420|                    66529|                    179478|        4.826184824881044|       0.480275516593613|      33|        101|      男|3703|      1|    1130|    33|       狮子座|        0|        0|           1|  1|    吉林|\n",
      "|0020c302e411978bb...|27d3355ef16b6a823...|          21|        4513|               0|                  50|                 698|                 1240|        0.0347|        0.0544|         0.0597|    18844|    17774|        48193|        50593|   0.0489|   0.0668|       0.0595|       0.0632|                 午夜|           0|           0|            0|            0|            0|             0|                    13329|                     0.2982|                   0.0023|                        4|                       79|                       195|       3.1076923076923078|      0.2532467532467532|      35|         21|      男|   0|      1|     211|    29|       水瓶座|        0|        0|           1|  1|    吉林|\n",
      "|0020c302e411978bb...|98a50af06037fd9c2...|         101|      268343|               1|               72784|              760866|              1076435|         0.138|        0.1406|         0.1503|  1342732|   973727|      2686440|      3315757|   0.1467|   0.1408|       0.1509|       0.1541|                 下午|           6|          35|           36|            9|           32|            69|                   350263|                     0.5008|                   0.0115|                     9011|                   115756|                    179030|       3.7532648159526336|      0.3468007663206343|      26|        101|      女|   0|      1|     168|     1|       天蝎座|        0|        0|           1|  1|    吉林|\n",
      "|0020c302e411978bb...|d5b802ebcf0d803d5...|         100|      201291|               1|               61163|              493159|               949186|        0.1526|        0.1749|         0.1794|  1017662|   795622|      2032709|      2394057|   0.1566|   0.2046|       0.1828|       0.1838|                 上午|          32|         198|          416|            5|           45|           108|                   283900|                     0.4696|                   0.0106|                    11061|                    67237|                    121985|        6.050391441570685|     0.43733194708349765|      26|        100|      男|   0|      1|      32|     1|       处女座|        0|        0|           1|  1|    吉林|\n",
      "|0020c302e411978bb...|f16c959fc309f034d...|          73|       69219|               0|                 744|                7599|                13914|        0.0751|        0.0731|          0.079|   377045|   235794|       633579|       899399|    0.073|   0.0817|       0.0782|       0.0827|                 凌晨|           0|           0|            0|            0|            0|             1|                   236218|                     0.2361|                   0.0033|                       84|                      925|                      2086|        3.316874400767018|      0.2519323671497585|      -1|         73|    未知|   0|     15|       0|   661|         未知|        0|        0|           1|  1|    吉林|\n",
      "|0020c302e411978bb...|72204d87e2fec8e0e...|         100|      344874|               1|             1132111|             2949302|              3533895|        0.1944|         0.182|         0.1387|  1949634|  1171442|      3804997|      3765041|   0.1676|    0.164|       0.1367|       0.0754|                 晚上|          36|          56|           56|            2|            2|             2|                   247999|                     0.5684|                   0.0014|                   225024|                   536178|                    590589|        4.659886994170226|      0.4932545803958972|      52|        100|      女|   0|      1|      37|     1|       巨蟹座|        1|        1|           1|  1|    吉林|\n",
      "|0020c302e411978bb...|7fd3d4ccbbd596ec9...|          82|       43688|               0|                7078|               45920|                65675|        0.0312|         0.033|         0.0339|   194106|   165112|       453877|       541247|    0.033|   0.0326|       0.0338|       0.0357|                 午夜|           0|           0|            0|            0|            0|            20|                    94456|                     0.5709|                   0.0065|                      330|                     3665|                      6111|       2.4555719194894454|     0.10880635282387294|      28|         82|      女|   0|      2|    1745|   311|       狮子座|        0|        0|           1|  1|    吉林|\n",
      "|0020c302e411978bb...|54e1b7c1361124d5f...|          47|       21610|               0|                 914|                6466|                11830|        0.1399|        0.1388|         0.1479|   108143|    87089|       217025|       257660|   0.1499|   0.1508|       0.1432|       0.1497|                 傍晚|           0|           0|            0|            0|            0|             0|                     9112|                     0.3923|                   0.0029|                      142|                     1019|                      1703|        4.957721667645332|     0.42101359703337454|      39|         47|      男|   0|      1|     212|    29|       巨蟹座|        0|        0|           1|  1|    吉林|\n",
      "|0020c302e411978bb...|efcff135b738dbee7...|          44|       36481|               0|                 690|                6735|                13115|        0.1042|        0.1021|         0.1074|   205554|   140244|       274974|       400714|   0.1092|   0.1206|       0.1069|       0.1037|                 傍晚|           0|           0|            2|            0|            2|             2|                    52298|                     0.6039|                   0.0086|                       81|                      939|                      2165|        3.945034642032333|      0.3214550853749072|      20|         44|      女|   0|      9|    2179|  1223|       天秤座|        0|        0|           1|  1|    吉林|\n",
      "+--------------------+--------------------+------------+------------+----------------+--------------------+--------------------+---------------------+--------------+--------------+---------------+---------+---------+-------------+-------------+---------+---------+-------------+-------------+---------------------+------------+------------+-------------+-------------+-------------+--------------+-------------------------+---------------------------+-------------------------+-------------------------+-------------------------+--------------------------+-------------------------+------------------------+--------+-----------+--------+----+-------+--------+------+-------------+---------+---------+------------+---+--------+\n",
      "only showing top 20 rows"
     ]
    }
   ],
   "source": [
    "df_res_all.show()"
   ]
  },
  {
   "cell_type": "markdown",
   "metadata": {},
   "source": [
    "# save results "
   ]
  },
  {
   "cell_type": "code",
   "execution_count": 34,
   "metadata": {},
   "outputs": [
    {
     "data": {
      "application/vnd.jupyter.widget-view+json": {
       "model_id": "76253c03ff684e029c7631b95da9f039",
       "version_major": 2,
       "version_minor": 0
      },
      "text/plain": [
       "VBox()"
      ]
     },
     "metadata": {},
     "output_type": "display_data"
    },
    {
     "data": {
      "application/vnd.jupyter.widget-view+json": {
       "model_id": "",
       "version_major": 2,
       "version_minor": 0
      },
      "text/plain": [
       "FloatProgress(value=0.0, bar_style='info', description='Progress:', layout=Layout(height='25px', width='50%'),…"
      ]
     },
     "metadata": {},
     "output_type": "display_data"
    }
   ],
   "source": [
    "\n",
    "df_train, df_test = df_res_all.randomSplit([0.9, 0.1])"
   ]
  },
  {
   "cell_type": "code",
   "execution_count": 37,
   "metadata": {},
   "outputs": [
    {
     "data": {
      "application/vnd.jupyter.widget-view+json": {
       "model_id": "19e15f5ff9234fe2bee9d5a5d537f89d",
       "version_major": 2,
       "version_minor": 0
      },
      "text/plain": [
       "VBox()"
      ]
     },
     "metadata": {},
     "output_type": "display_data"
    },
    {
     "data": {
      "application/vnd.jupyter.widget-view+json": {
       "model_id": "",
       "version_major": 2,
       "version_minor": 0
      },
      "text/plain": [
       "FloatProgress(value=0.0, bar_style='info', description='Progress:', layout=Layout(height='25px', width='50%'),…"
      ]
     },
     "metadata": {},
     "output_type": "display_data"
    },
    {
     "name": "stdout",
     "output_type": "stream",
     "text": [
      "It take 68.88 mimutes to finish"
     ]
    }
   ],
   "source": [
    "#save results\n",
    "\n",
    "df_train.write.format('csv').\\\n",
    "    option('header', True).mode('overwrite').option('sep', '\\t').\\\n",
    "    save('s3://douyu-datalab/train_1221_full.csv')\n",
    "\n",
    "df_test.write.format('csv').\\\n",
    "    option('header', True).mode('overwrite').option('sep', '\\t').\\\n",
    "    save('s3://douyu-datalab/test_1221_full.csv')\n",
    "\n",
    "print(\"It take {:.2f} mimutes to finish\".format((time.time()-Timer1)/60))"
   ]
  },
  {
   "cell_type": "code",
   "execution_count": null,
   "metadata": {},
   "outputs": [],
   "source": []
  }
 ],
 "metadata": {
  "kernelspec": {
   "display_name": "PySpark",
   "language": "",
   "name": "pysparkkernel"
  },
  "language_info": {
   "codemirror_mode": {
    "name": "python",
    "version": 2
   },
   "mimetype": "text/x-python",
   "name": "pyspark",
   "pygments_lexer": "python2"
  }
 },
 "nbformat": 4,
 "nbformat_minor": 4
}
